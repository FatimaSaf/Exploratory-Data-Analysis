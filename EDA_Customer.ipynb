{
  "nbformat": 4,
  "nbformat_minor": 0,
  "metadata": {
    "colab": {
      "provenance": []
    },
    "kernelspec": {
      "name": "python3",
      "display_name": "Python 3"
    },
    "language_info": {
      "name": "python"
    }
  },
  "cells": [
    {
      "cell_type": "markdown",
      "source": [
        "**Importing Packages** "
      ],
      "metadata": {
        "id": "QGOUn9htroTi"
      }
    },
    {
      "cell_type": "code",
      "source": [
        "import pandas as pd\n",
        "import numpy as np"
      ],
      "metadata": {
        "id": "5qfJyvgDrwi9"
      },
      "execution_count": null,
      "outputs": []
    },
    {
      "cell_type": "markdown",
      "source": [
        "**Creating the dataframe for the CSV input**"
      ],
      "metadata": {
        "id": "4_TmoZjAr2cf"
      }
    },
    {
      "cell_type": "code",
      "source": [
        "#Reading csv file\n",
        "data=pd.read_csv('Customers.csv')\n",
        "data"
      ],
      "metadata": {
        "colab": {
          "base_uri": "https://localhost:8080/",
          "height": 423
        },
        "id": "DBZiNaeDr-x3",
        "outputId": "dc314f97-fb39-4c41-cc07-811620c5ac18"
      },
      "execution_count": null,
      "outputs": [
        {
          "output_type": "execute_result",
          "data": {
            "text/plain": [
              "      CustomerID  Gender  Age  Annual Income ($)  Spending Score (1-100)  \\\n",
              "0              1    Male   19              15000                      39   \n",
              "1              2    Male   21              35000                      81   \n",
              "2              3  Female   20              86000                       6   \n",
              "3              4  Female   23              59000                      77   \n",
              "4              5  Female   31              38000                      40   \n",
              "...          ...     ...  ...                ...                     ...   \n",
              "1995        1996  Female   71             184387                      40   \n",
              "1996        1997  Female   91              73158                      32   \n",
              "1997        1998    Male   87              90961                      14   \n",
              "1998        1999    Male   77             182109                       4   \n",
              "1999        2000    Male   90             110610                      52   \n",
              "\n",
              "         Profession  Work Experience  Family Size  \n",
              "0        Healthcare                1            4  \n",
              "1          Engineer                3            3  \n",
              "2          Engineer                1            1  \n",
              "3            Lawyer                0            2  \n",
              "4     Entertainment                2            6  \n",
              "...             ...              ...          ...  \n",
              "1995         Artist                8            7  \n",
              "1996         Doctor                7            7  \n",
              "1997     Healthcare                9            2  \n",
              "1998      Executive                7            2  \n",
              "1999  Entertainment                5            2  \n",
              "\n",
              "[2000 rows x 8 columns]"
            ],
            "text/html": [
              "\n",
              "  <div id=\"df-edcc2d7a-b9e4-4812-b9ee-6e21ea3251ba\">\n",
              "    <div class=\"colab-df-container\">\n",
              "      <div>\n",
              "<style scoped>\n",
              "    .dataframe tbody tr th:only-of-type {\n",
              "        vertical-align: middle;\n",
              "    }\n",
              "\n",
              "    .dataframe tbody tr th {\n",
              "        vertical-align: top;\n",
              "    }\n",
              "\n",
              "    .dataframe thead th {\n",
              "        text-align: right;\n",
              "    }\n",
              "</style>\n",
              "<table border=\"1\" class=\"dataframe\">\n",
              "  <thead>\n",
              "    <tr style=\"text-align: right;\">\n",
              "      <th></th>\n",
              "      <th>CustomerID</th>\n",
              "      <th>Gender</th>\n",
              "      <th>Age</th>\n",
              "      <th>Annual Income ($)</th>\n",
              "      <th>Spending Score (1-100)</th>\n",
              "      <th>Profession</th>\n",
              "      <th>Work Experience</th>\n",
              "      <th>Family Size</th>\n",
              "    </tr>\n",
              "  </thead>\n",
              "  <tbody>\n",
              "    <tr>\n",
              "      <th>0</th>\n",
              "      <td>1</td>\n",
              "      <td>Male</td>\n",
              "      <td>19</td>\n",
              "      <td>15000</td>\n",
              "      <td>39</td>\n",
              "      <td>Healthcare</td>\n",
              "      <td>1</td>\n",
              "      <td>4</td>\n",
              "    </tr>\n",
              "    <tr>\n",
              "      <th>1</th>\n",
              "      <td>2</td>\n",
              "      <td>Male</td>\n",
              "      <td>21</td>\n",
              "      <td>35000</td>\n",
              "      <td>81</td>\n",
              "      <td>Engineer</td>\n",
              "      <td>3</td>\n",
              "      <td>3</td>\n",
              "    </tr>\n",
              "    <tr>\n",
              "      <th>2</th>\n",
              "      <td>3</td>\n",
              "      <td>Female</td>\n",
              "      <td>20</td>\n",
              "      <td>86000</td>\n",
              "      <td>6</td>\n",
              "      <td>Engineer</td>\n",
              "      <td>1</td>\n",
              "      <td>1</td>\n",
              "    </tr>\n",
              "    <tr>\n",
              "      <th>3</th>\n",
              "      <td>4</td>\n",
              "      <td>Female</td>\n",
              "      <td>23</td>\n",
              "      <td>59000</td>\n",
              "      <td>77</td>\n",
              "      <td>Lawyer</td>\n",
              "      <td>0</td>\n",
              "      <td>2</td>\n",
              "    </tr>\n",
              "    <tr>\n",
              "      <th>4</th>\n",
              "      <td>5</td>\n",
              "      <td>Female</td>\n",
              "      <td>31</td>\n",
              "      <td>38000</td>\n",
              "      <td>40</td>\n",
              "      <td>Entertainment</td>\n",
              "      <td>2</td>\n",
              "      <td>6</td>\n",
              "    </tr>\n",
              "    <tr>\n",
              "      <th>...</th>\n",
              "      <td>...</td>\n",
              "      <td>...</td>\n",
              "      <td>...</td>\n",
              "      <td>...</td>\n",
              "      <td>...</td>\n",
              "      <td>...</td>\n",
              "      <td>...</td>\n",
              "      <td>...</td>\n",
              "    </tr>\n",
              "    <tr>\n",
              "      <th>1995</th>\n",
              "      <td>1996</td>\n",
              "      <td>Female</td>\n",
              "      <td>71</td>\n",
              "      <td>184387</td>\n",
              "      <td>40</td>\n",
              "      <td>Artist</td>\n",
              "      <td>8</td>\n",
              "      <td>7</td>\n",
              "    </tr>\n",
              "    <tr>\n",
              "      <th>1996</th>\n",
              "      <td>1997</td>\n",
              "      <td>Female</td>\n",
              "      <td>91</td>\n",
              "      <td>73158</td>\n",
              "      <td>32</td>\n",
              "      <td>Doctor</td>\n",
              "      <td>7</td>\n",
              "      <td>7</td>\n",
              "    </tr>\n",
              "    <tr>\n",
              "      <th>1997</th>\n",
              "      <td>1998</td>\n",
              "      <td>Male</td>\n",
              "      <td>87</td>\n",
              "      <td>90961</td>\n",
              "      <td>14</td>\n",
              "      <td>Healthcare</td>\n",
              "      <td>9</td>\n",
              "      <td>2</td>\n",
              "    </tr>\n",
              "    <tr>\n",
              "      <th>1998</th>\n",
              "      <td>1999</td>\n",
              "      <td>Male</td>\n",
              "      <td>77</td>\n",
              "      <td>182109</td>\n",
              "      <td>4</td>\n",
              "      <td>Executive</td>\n",
              "      <td>7</td>\n",
              "      <td>2</td>\n",
              "    </tr>\n",
              "    <tr>\n",
              "      <th>1999</th>\n",
              "      <td>2000</td>\n",
              "      <td>Male</td>\n",
              "      <td>90</td>\n",
              "      <td>110610</td>\n",
              "      <td>52</td>\n",
              "      <td>Entertainment</td>\n",
              "      <td>5</td>\n",
              "      <td>2</td>\n",
              "    </tr>\n",
              "  </tbody>\n",
              "</table>\n",
              "<p>2000 rows × 8 columns</p>\n",
              "</div>\n",
              "      <button class=\"colab-df-convert\" onclick=\"convertToInteractive('df-edcc2d7a-b9e4-4812-b9ee-6e21ea3251ba')\"\n",
              "              title=\"Convert this dataframe to an interactive table.\"\n",
              "              style=\"display:none;\">\n",
              "        \n",
              "  <svg xmlns=\"http://www.w3.org/2000/svg\" height=\"24px\"viewBox=\"0 0 24 24\"\n",
              "       width=\"24px\">\n",
              "    <path d=\"M0 0h24v24H0V0z\" fill=\"none\"/>\n",
              "    <path d=\"M18.56 5.44l.94 2.06.94-2.06 2.06-.94-2.06-.94-.94-2.06-.94 2.06-2.06.94zm-11 1L8.5 8.5l.94-2.06 2.06-.94-2.06-.94L8.5 2.5l-.94 2.06-2.06.94zm10 10l.94 2.06.94-2.06 2.06-.94-2.06-.94-.94-2.06-.94 2.06-2.06.94z\"/><path d=\"M17.41 7.96l-1.37-1.37c-.4-.4-.92-.59-1.43-.59-.52 0-1.04.2-1.43.59L10.3 9.45l-7.72 7.72c-.78.78-.78 2.05 0 2.83L4 21.41c.39.39.9.59 1.41.59.51 0 1.02-.2 1.41-.59l7.78-7.78 2.81-2.81c.8-.78.8-2.07 0-2.86zM5.41 20L4 18.59l7.72-7.72 1.47 1.35L5.41 20z\"/>\n",
              "  </svg>\n",
              "      </button>\n",
              "      \n",
              "  <style>\n",
              "    .colab-df-container {\n",
              "      display:flex;\n",
              "      flex-wrap:wrap;\n",
              "      gap: 12px;\n",
              "    }\n",
              "\n",
              "    .colab-df-convert {\n",
              "      background-color: #E8F0FE;\n",
              "      border: none;\n",
              "      border-radius: 50%;\n",
              "      cursor: pointer;\n",
              "      display: none;\n",
              "      fill: #1967D2;\n",
              "      height: 32px;\n",
              "      padding: 0 0 0 0;\n",
              "      width: 32px;\n",
              "    }\n",
              "\n",
              "    .colab-df-convert:hover {\n",
              "      background-color: #E2EBFA;\n",
              "      box-shadow: 0px 1px 2px rgba(60, 64, 67, 0.3), 0px 1px 3px 1px rgba(60, 64, 67, 0.15);\n",
              "      fill: #174EA6;\n",
              "    }\n",
              "\n",
              "    [theme=dark] .colab-df-convert {\n",
              "      background-color: #3B4455;\n",
              "      fill: #D2E3FC;\n",
              "    }\n",
              "\n",
              "    [theme=dark] .colab-df-convert:hover {\n",
              "      background-color: #434B5C;\n",
              "      box-shadow: 0px 1px 3px 1px rgba(0, 0, 0, 0.15);\n",
              "      filter: drop-shadow(0px 1px 2px rgba(0, 0, 0, 0.3));\n",
              "      fill: #FFFFFF;\n",
              "    }\n",
              "  </style>\n",
              "\n",
              "      <script>\n",
              "        const buttonEl =\n",
              "          document.querySelector('#df-edcc2d7a-b9e4-4812-b9ee-6e21ea3251ba button.colab-df-convert');\n",
              "        buttonEl.style.display =\n",
              "          google.colab.kernel.accessAllowed ? 'block' : 'none';\n",
              "\n",
              "        async function convertToInteractive(key) {\n",
              "          const element = document.querySelector('#df-edcc2d7a-b9e4-4812-b9ee-6e21ea3251ba');\n",
              "          const dataTable =\n",
              "            await google.colab.kernel.invokeFunction('convertToInteractive',\n",
              "                                                     [key], {});\n",
              "          if (!dataTable) return;\n",
              "\n",
              "          const docLinkHtml = 'Like what you see? Visit the ' +\n",
              "            '<a target=\"_blank\" href=https://colab.research.google.com/notebooks/data_table.ipynb>data table notebook</a>'\n",
              "            + ' to learn more about interactive tables.';\n",
              "          element.innerHTML = '';\n",
              "          dataTable['output_type'] = 'display_data';\n",
              "          await google.colab.output.renderOutput(dataTable, element);\n",
              "          const docLink = document.createElement('div');\n",
              "          docLink.innerHTML = docLinkHtml;\n",
              "          element.appendChild(docLink);\n",
              "        }\n",
              "      </script>\n",
              "    </div>\n",
              "  </div>\n",
              "  "
            ]
          },
          "metadata": {},
          "execution_count": 6
        }
      ]
    },
    {
      "cell_type": "markdown",
      "source": [
        "**Data Preprocessing**"
      ],
      "metadata": {
        "id": "A07lGdVAsMyI"
      }
    },
    {
      "cell_type": "code",
      "source": [
        "#Dropping rows with null value\n",
        "data.dropna(inplace=True)"
      ],
      "metadata": {
        "id": "Z94KveQbsUmA"
      },
      "execution_count": null,
      "outputs": []
    },
    {
      "cell_type": "code",
      "source": [
        "data"
      ],
      "metadata": {
        "colab": {
          "base_uri": "https://localhost:8080/",
          "height": 423
        },
        "id": "nv1WW8mVsfV-",
        "outputId": "31268324-76b2-40ea-c01e-71be0bebdc1a"
      },
      "execution_count": null,
      "outputs": [
        {
          "output_type": "execute_result",
          "data": {
            "text/plain": [
              "      CustomerID  Gender  Age  Annual Income ($)  Spending Score (1-100)  \\\n",
              "0              1    Male   19              15000                      39   \n",
              "1              2    Male   21              35000                      81   \n",
              "2              3  Female   20              86000                       6   \n",
              "3              4  Female   23              59000                      77   \n",
              "4              5  Female   31              38000                      40   \n",
              "...          ...     ...  ...                ...                     ...   \n",
              "1995        1996  Female   71             184387                      40   \n",
              "1996        1997  Female   91              73158                      32   \n",
              "1997        1998    Male   87              90961                      14   \n",
              "1998        1999    Male   77             182109                       4   \n",
              "1999        2000    Male   90             110610                      52   \n",
              "\n",
              "         Profession  Work Experience  Family Size  \n",
              "0        Healthcare                1            4  \n",
              "1          Engineer                3            3  \n",
              "2          Engineer                1            1  \n",
              "3            Lawyer                0            2  \n",
              "4     Entertainment                2            6  \n",
              "...             ...              ...          ...  \n",
              "1995         Artist                8            7  \n",
              "1996         Doctor                7            7  \n",
              "1997     Healthcare                9            2  \n",
              "1998      Executive                7            2  \n",
              "1999  Entertainment                5            2  \n",
              "\n",
              "[1965 rows x 8 columns]"
            ],
            "text/html": [
              "\n",
              "  <div id=\"df-0a0db8ba-96b1-44f8-adb7-ca684fa04570\">\n",
              "    <div class=\"colab-df-container\">\n",
              "      <div>\n",
              "<style scoped>\n",
              "    .dataframe tbody tr th:only-of-type {\n",
              "        vertical-align: middle;\n",
              "    }\n",
              "\n",
              "    .dataframe tbody tr th {\n",
              "        vertical-align: top;\n",
              "    }\n",
              "\n",
              "    .dataframe thead th {\n",
              "        text-align: right;\n",
              "    }\n",
              "</style>\n",
              "<table border=\"1\" class=\"dataframe\">\n",
              "  <thead>\n",
              "    <tr style=\"text-align: right;\">\n",
              "      <th></th>\n",
              "      <th>CustomerID</th>\n",
              "      <th>Gender</th>\n",
              "      <th>Age</th>\n",
              "      <th>Annual Income ($)</th>\n",
              "      <th>Spending Score (1-100)</th>\n",
              "      <th>Profession</th>\n",
              "      <th>Work Experience</th>\n",
              "      <th>Family Size</th>\n",
              "    </tr>\n",
              "  </thead>\n",
              "  <tbody>\n",
              "    <tr>\n",
              "      <th>0</th>\n",
              "      <td>1</td>\n",
              "      <td>Male</td>\n",
              "      <td>19</td>\n",
              "      <td>15000</td>\n",
              "      <td>39</td>\n",
              "      <td>Healthcare</td>\n",
              "      <td>1</td>\n",
              "      <td>4</td>\n",
              "    </tr>\n",
              "    <tr>\n",
              "      <th>1</th>\n",
              "      <td>2</td>\n",
              "      <td>Male</td>\n",
              "      <td>21</td>\n",
              "      <td>35000</td>\n",
              "      <td>81</td>\n",
              "      <td>Engineer</td>\n",
              "      <td>3</td>\n",
              "      <td>3</td>\n",
              "    </tr>\n",
              "    <tr>\n",
              "      <th>2</th>\n",
              "      <td>3</td>\n",
              "      <td>Female</td>\n",
              "      <td>20</td>\n",
              "      <td>86000</td>\n",
              "      <td>6</td>\n",
              "      <td>Engineer</td>\n",
              "      <td>1</td>\n",
              "      <td>1</td>\n",
              "    </tr>\n",
              "    <tr>\n",
              "      <th>3</th>\n",
              "      <td>4</td>\n",
              "      <td>Female</td>\n",
              "      <td>23</td>\n",
              "      <td>59000</td>\n",
              "      <td>77</td>\n",
              "      <td>Lawyer</td>\n",
              "      <td>0</td>\n",
              "      <td>2</td>\n",
              "    </tr>\n",
              "    <tr>\n",
              "      <th>4</th>\n",
              "      <td>5</td>\n",
              "      <td>Female</td>\n",
              "      <td>31</td>\n",
              "      <td>38000</td>\n",
              "      <td>40</td>\n",
              "      <td>Entertainment</td>\n",
              "      <td>2</td>\n",
              "      <td>6</td>\n",
              "    </tr>\n",
              "    <tr>\n",
              "      <th>...</th>\n",
              "      <td>...</td>\n",
              "      <td>...</td>\n",
              "      <td>...</td>\n",
              "      <td>...</td>\n",
              "      <td>...</td>\n",
              "      <td>...</td>\n",
              "      <td>...</td>\n",
              "      <td>...</td>\n",
              "    </tr>\n",
              "    <tr>\n",
              "      <th>1995</th>\n",
              "      <td>1996</td>\n",
              "      <td>Female</td>\n",
              "      <td>71</td>\n",
              "      <td>184387</td>\n",
              "      <td>40</td>\n",
              "      <td>Artist</td>\n",
              "      <td>8</td>\n",
              "      <td>7</td>\n",
              "    </tr>\n",
              "    <tr>\n",
              "      <th>1996</th>\n",
              "      <td>1997</td>\n",
              "      <td>Female</td>\n",
              "      <td>91</td>\n",
              "      <td>73158</td>\n",
              "      <td>32</td>\n",
              "      <td>Doctor</td>\n",
              "      <td>7</td>\n",
              "      <td>7</td>\n",
              "    </tr>\n",
              "    <tr>\n",
              "      <th>1997</th>\n",
              "      <td>1998</td>\n",
              "      <td>Male</td>\n",
              "      <td>87</td>\n",
              "      <td>90961</td>\n",
              "      <td>14</td>\n",
              "      <td>Healthcare</td>\n",
              "      <td>9</td>\n",
              "      <td>2</td>\n",
              "    </tr>\n",
              "    <tr>\n",
              "      <th>1998</th>\n",
              "      <td>1999</td>\n",
              "      <td>Male</td>\n",
              "      <td>77</td>\n",
              "      <td>182109</td>\n",
              "      <td>4</td>\n",
              "      <td>Executive</td>\n",
              "      <td>7</td>\n",
              "      <td>2</td>\n",
              "    </tr>\n",
              "    <tr>\n",
              "      <th>1999</th>\n",
              "      <td>2000</td>\n",
              "      <td>Male</td>\n",
              "      <td>90</td>\n",
              "      <td>110610</td>\n",
              "      <td>52</td>\n",
              "      <td>Entertainment</td>\n",
              "      <td>5</td>\n",
              "      <td>2</td>\n",
              "    </tr>\n",
              "  </tbody>\n",
              "</table>\n",
              "<p>1965 rows × 8 columns</p>\n",
              "</div>\n",
              "      <button class=\"colab-df-convert\" onclick=\"convertToInteractive('df-0a0db8ba-96b1-44f8-adb7-ca684fa04570')\"\n",
              "              title=\"Convert this dataframe to an interactive table.\"\n",
              "              style=\"display:none;\">\n",
              "        \n",
              "  <svg xmlns=\"http://www.w3.org/2000/svg\" height=\"24px\"viewBox=\"0 0 24 24\"\n",
              "       width=\"24px\">\n",
              "    <path d=\"M0 0h24v24H0V0z\" fill=\"none\"/>\n",
              "    <path d=\"M18.56 5.44l.94 2.06.94-2.06 2.06-.94-2.06-.94-.94-2.06-.94 2.06-2.06.94zm-11 1L8.5 8.5l.94-2.06 2.06-.94-2.06-.94L8.5 2.5l-.94 2.06-2.06.94zm10 10l.94 2.06.94-2.06 2.06-.94-2.06-.94-.94-2.06-.94 2.06-2.06.94z\"/><path d=\"M17.41 7.96l-1.37-1.37c-.4-.4-.92-.59-1.43-.59-.52 0-1.04.2-1.43.59L10.3 9.45l-7.72 7.72c-.78.78-.78 2.05 0 2.83L4 21.41c.39.39.9.59 1.41.59.51 0 1.02-.2 1.41-.59l7.78-7.78 2.81-2.81c.8-.78.8-2.07 0-2.86zM5.41 20L4 18.59l7.72-7.72 1.47 1.35L5.41 20z\"/>\n",
              "  </svg>\n",
              "      </button>\n",
              "      \n",
              "  <style>\n",
              "    .colab-df-container {\n",
              "      display:flex;\n",
              "      flex-wrap:wrap;\n",
              "      gap: 12px;\n",
              "    }\n",
              "\n",
              "    .colab-df-convert {\n",
              "      background-color: #E8F0FE;\n",
              "      border: none;\n",
              "      border-radius: 50%;\n",
              "      cursor: pointer;\n",
              "      display: none;\n",
              "      fill: #1967D2;\n",
              "      height: 32px;\n",
              "      padding: 0 0 0 0;\n",
              "      width: 32px;\n",
              "    }\n",
              "\n",
              "    .colab-df-convert:hover {\n",
              "      background-color: #E2EBFA;\n",
              "      box-shadow: 0px 1px 2px rgba(60, 64, 67, 0.3), 0px 1px 3px 1px rgba(60, 64, 67, 0.15);\n",
              "      fill: #174EA6;\n",
              "    }\n",
              "\n",
              "    [theme=dark] .colab-df-convert {\n",
              "      background-color: #3B4455;\n",
              "      fill: #D2E3FC;\n",
              "    }\n",
              "\n",
              "    [theme=dark] .colab-df-convert:hover {\n",
              "      background-color: #434B5C;\n",
              "      box-shadow: 0px 1px 3px 1px rgba(0, 0, 0, 0.15);\n",
              "      filter: drop-shadow(0px 1px 2px rgba(0, 0, 0, 0.3));\n",
              "      fill: #FFFFFF;\n",
              "    }\n",
              "  </style>\n",
              "\n",
              "      <script>\n",
              "        const buttonEl =\n",
              "          document.querySelector('#df-0a0db8ba-96b1-44f8-adb7-ca684fa04570 button.colab-df-convert');\n",
              "        buttonEl.style.display =\n",
              "          google.colab.kernel.accessAllowed ? 'block' : 'none';\n",
              "\n",
              "        async function convertToInteractive(key) {\n",
              "          const element = document.querySelector('#df-0a0db8ba-96b1-44f8-adb7-ca684fa04570');\n",
              "          const dataTable =\n",
              "            await google.colab.kernel.invokeFunction('convertToInteractive',\n",
              "                                                     [key], {});\n",
              "          if (!dataTable) return;\n",
              "\n",
              "          const docLinkHtml = 'Like what you see? Visit the ' +\n",
              "            '<a target=\"_blank\" href=https://colab.research.google.com/notebooks/data_table.ipynb>data table notebook</a>'\n",
              "            + ' to learn more about interactive tables.';\n",
              "          element.innerHTML = '';\n",
              "          dataTable['output_type'] = 'display_data';\n",
              "          await google.colab.output.renderOutput(dataTable, element);\n",
              "          const docLink = document.createElement('div');\n",
              "          docLink.innerHTML = docLinkHtml;\n",
              "          element.appendChild(docLink);\n",
              "        }\n",
              "      </script>\n",
              "    </div>\n",
              "  </div>\n",
              "  "
            ]
          },
          "metadata": {},
          "execution_count": 8
        }
      ]
    },
    {
      "cell_type": "markdown",
      "source": [
        "## **Descriptive Statistics**"
      ],
      "metadata": {
        "id": "VgUo5qLg1DKy"
      }
    },
    {
      "cell_type": "code",
      "source": [
        "#rows and columns in dataset\n",
        "data.shape"
      ],
      "metadata": {
        "colab": {
          "base_uri": "https://localhost:8080/"
        },
        "id": "SLxzgLoxsfhR",
        "outputId": "3d7cb665-472d-466e-a353-4218c10ea682"
      },
      "execution_count": null,
      "outputs": [
        {
          "output_type": "execute_result",
          "data": {
            "text/plain": [
              "(1965, 8)"
            ]
          },
          "metadata": {},
          "execution_count": 9
        }
      ]
    },
    {
      "cell_type": "code",
      "source": [
        "data.columns"
      ],
      "metadata": {
        "colab": {
          "base_uri": "https://localhost:8080/"
        },
        "id": "4ZWVuJdn1LUK",
        "outputId": "55f85094-ef49-4f83-f808-fbec7881a591"
      },
      "execution_count": null,
      "outputs": [
        {
          "output_type": "execute_result",
          "data": {
            "text/plain": [
              "Index(['CustomerID', 'Gender', 'Age', 'Annual Income ($)',\n",
              "       'Spending Score (1-100)', 'Profession', 'Work Experience',\n",
              "       'Family Size'],\n",
              "      dtype='object')"
            ]
          },
          "metadata": {},
          "execution_count": 10
        }
      ]
    },
    {
      "cell_type": "code",
      "source": [
        "data.info()"
      ],
      "metadata": {
        "colab": {
          "base_uri": "https://localhost:8080/"
        },
        "id": "CFlPfozo1QNL",
        "outputId": "842337e8-f802-4131-98a9-e1ed6bf542ac"
      },
      "execution_count": null,
      "outputs": [
        {
          "output_type": "stream",
          "name": "stdout",
          "text": [
            "<class 'pandas.core.frame.DataFrame'>\n",
            "Int64Index: 1965 entries, 0 to 1999\n",
            "Data columns (total 8 columns):\n",
            " #   Column                  Non-Null Count  Dtype \n",
            "---  ------                  --------------  ----- \n",
            " 0   CustomerID              1965 non-null   int64 \n",
            " 1   Gender                  1965 non-null   object\n",
            " 2   Age                     1965 non-null   int64 \n",
            " 3   Annual Income ($)       1965 non-null   int64 \n",
            " 4   Spending Score (1-100)  1965 non-null   int64 \n",
            " 5   Profession              1965 non-null   object\n",
            " 6   Work Experience         1965 non-null   int64 \n",
            " 7   Family Size             1965 non-null   int64 \n",
            "dtypes: int64(6), object(2)\n",
            "memory usage: 138.2+ KB\n"
          ]
        }
      ]
    },
    {
      "cell_type": "code",
      "source": [
        "#Statistical summary of dataset \n",
        "data.describe"
      ],
      "metadata": {
        "colab": {
          "base_uri": "https://localhost:8080/"
        },
        "id": "e0DVvZiN1UkH",
        "outputId": "c5e24a06-c2b2-4520-d706-62604a6f8170"
      },
      "execution_count": null,
      "outputs": [
        {
          "output_type": "execute_result",
          "data": {
            "text/plain": [
              "<bound method NDFrame.describe of       CustomerID  Gender  Age  Annual Income ($)  Spending Score (1-100)  \\\n",
              "0              1    Male   19              15000                      39   \n",
              "1              2    Male   21              35000                      81   \n",
              "2              3  Female   20              86000                       6   \n",
              "3              4  Female   23              59000                      77   \n",
              "4              5  Female   31              38000                      40   \n",
              "...          ...     ...  ...                ...                     ...   \n",
              "1995        1996  Female   71             184387                      40   \n",
              "1996        1997  Female   91              73158                      32   \n",
              "1997        1998    Male   87              90961                      14   \n",
              "1998        1999    Male   77             182109                       4   \n",
              "1999        2000    Male   90             110610                      52   \n",
              "\n",
              "         Profession  Work Experience  Family Size  \n",
              "0        Healthcare                1            4  \n",
              "1          Engineer                3            3  \n",
              "2          Engineer                1            1  \n",
              "3            Lawyer                0            2  \n",
              "4     Entertainment                2            6  \n",
              "...             ...              ...          ...  \n",
              "1995         Artist                8            7  \n",
              "1996         Doctor                7            7  \n",
              "1997     Healthcare                9            2  \n",
              "1998      Executive                7            2  \n",
              "1999  Entertainment                5            2  \n",
              "\n",
              "[1965 rows x 8 columns]>"
            ]
          },
          "metadata": {},
          "execution_count": 12
        }
      ]
    },
    {
      "cell_type": "code",
      "source": [
        "#unique values in column category\n",
        "len(data['Profession'].unique())"
      ],
      "metadata": {
        "colab": {
          "base_uri": "https://localhost:8080/"
        },
        "id": "1KmxVcxX1YFm",
        "outputId": "dd660793-00ed-48ed-ac39-2cd1593cc4db"
      },
      "execution_count": null,
      "outputs": [
        {
          "output_type": "execute_result",
          "data": {
            "text/plain": [
              "9"
            ]
          },
          "metadata": {},
          "execution_count": 13
        }
      ]
    },
    {
      "cell_type": "code",
      "source": [
        "#counts value in each category\n",
        "data['Profession'].value_counts()"
      ],
      "metadata": {
        "colab": {
          "base_uri": "https://localhost:8080/"
        },
        "id": "IfMyX6HC101_",
        "outputId": "2c02bc55-8394-4f58-c531-2b3c80e072ea"
      },
      "execution_count": null,
      "outputs": [
        {
          "output_type": "execute_result",
          "data": {
            "text/plain": [
              "Artist           612\n",
              "Healthcare       339\n",
              "Entertainment    234\n",
              "Engineer         179\n",
              "Doctor           161\n",
              "Executive        153\n",
              "Lawyer           142\n",
              "Marketing         85\n",
              "Homemaker         60\n",
              "Name: Profession, dtype: int64"
            ]
          },
          "metadata": {},
          "execution_count": 14
        }
      ]
    },
    {
      "cell_type": "markdown",
      "source": [
        "## **Languages belonging to INDO-EUROPEAN Family**"
      ],
      "metadata": {
        "id": "rpU3Pbmm93fl"
      }
    },
    {
      "cell_type": "code",
      "source": [
        "Artist_Profession=data[data['Profession']=='Artist']\n",
        "Artist_Profession"
      ],
      "metadata": {
        "colab": {
          "base_uri": "https://localhost:8080/",
          "height": 423
        },
        "id": "ro-aNwokCq7f",
        "outputId": "63611e33-2d13-4460-d64e-7861943728b9"
      },
      "execution_count": null,
      "outputs": [
        {
          "output_type": "execute_result",
          "data": {
            "text/plain": [
              "      CustomerID  Gender  Age  Annual Income ($)  Spending Score (1-100)  \\\n",
              "5              6  Female   22              58000                      76   \n",
              "9             10  Female   30              98000                      72   \n",
              "19            20  Female   35              62000                      98   \n",
              "22            23  Female   46              42000                       5   \n",
              "23            24    Male   31              71000                      73   \n",
              "...          ...     ...  ...                ...                     ...   \n",
              "1987        1988    Male   63              59244                      80   \n",
              "1988        1989  Female   54             118944                      77   \n",
              "1990        1991  Female   30             166983                      69   \n",
              "1993        1994  Female   64             175254                     100   \n",
              "1995        1996  Female   71             184387                      40   \n",
              "\n",
              "     Profession  Work Experience  Family Size  \n",
              "5        Artist                0            2  \n",
              "9        Artist                1            4  \n",
              "19       Artist                0            1  \n",
              "22       Artist               13            2  \n",
              "23       Artist                5            2  \n",
              "...         ...              ...          ...  \n",
              "1987     Artist                7            1  \n",
              "1988     Artist                4            4  \n",
              "1990     Artist                7            3  \n",
              "1993     Artist                9            5  \n",
              "1995     Artist                8            7  \n",
              "\n",
              "[612 rows x 8 columns]"
            ],
            "text/html": [
              "\n",
              "  <div id=\"df-cbb66f9f-b7a0-4500-a6f1-a980c4d4b015\">\n",
              "    <div class=\"colab-df-container\">\n",
              "      <div>\n",
              "<style scoped>\n",
              "    .dataframe tbody tr th:only-of-type {\n",
              "        vertical-align: middle;\n",
              "    }\n",
              "\n",
              "    .dataframe tbody tr th {\n",
              "        vertical-align: top;\n",
              "    }\n",
              "\n",
              "    .dataframe thead th {\n",
              "        text-align: right;\n",
              "    }\n",
              "</style>\n",
              "<table border=\"1\" class=\"dataframe\">\n",
              "  <thead>\n",
              "    <tr style=\"text-align: right;\">\n",
              "      <th></th>\n",
              "      <th>CustomerID</th>\n",
              "      <th>Gender</th>\n",
              "      <th>Age</th>\n",
              "      <th>Annual Income ($)</th>\n",
              "      <th>Spending Score (1-100)</th>\n",
              "      <th>Profession</th>\n",
              "      <th>Work Experience</th>\n",
              "      <th>Family Size</th>\n",
              "    </tr>\n",
              "  </thead>\n",
              "  <tbody>\n",
              "    <tr>\n",
              "      <th>5</th>\n",
              "      <td>6</td>\n",
              "      <td>Female</td>\n",
              "      <td>22</td>\n",
              "      <td>58000</td>\n",
              "      <td>76</td>\n",
              "      <td>Artist</td>\n",
              "      <td>0</td>\n",
              "      <td>2</td>\n",
              "    </tr>\n",
              "    <tr>\n",
              "      <th>9</th>\n",
              "      <td>10</td>\n",
              "      <td>Female</td>\n",
              "      <td>30</td>\n",
              "      <td>98000</td>\n",
              "      <td>72</td>\n",
              "      <td>Artist</td>\n",
              "      <td>1</td>\n",
              "      <td>4</td>\n",
              "    </tr>\n",
              "    <tr>\n",
              "      <th>19</th>\n",
              "      <td>20</td>\n",
              "      <td>Female</td>\n",
              "      <td>35</td>\n",
              "      <td>62000</td>\n",
              "      <td>98</td>\n",
              "      <td>Artist</td>\n",
              "      <td>0</td>\n",
              "      <td>1</td>\n",
              "    </tr>\n",
              "    <tr>\n",
              "      <th>22</th>\n",
              "      <td>23</td>\n",
              "      <td>Female</td>\n",
              "      <td>46</td>\n",
              "      <td>42000</td>\n",
              "      <td>5</td>\n",
              "      <td>Artist</td>\n",
              "      <td>13</td>\n",
              "      <td>2</td>\n",
              "    </tr>\n",
              "    <tr>\n",
              "      <th>23</th>\n",
              "      <td>24</td>\n",
              "      <td>Male</td>\n",
              "      <td>31</td>\n",
              "      <td>71000</td>\n",
              "      <td>73</td>\n",
              "      <td>Artist</td>\n",
              "      <td>5</td>\n",
              "      <td>2</td>\n",
              "    </tr>\n",
              "    <tr>\n",
              "      <th>...</th>\n",
              "      <td>...</td>\n",
              "      <td>...</td>\n",
              "      <td>...</td>\n",
              "      <td>...</td>\n",
              "      <td>...</td>\n",
              "      <td>...</td>\n",
              "      <td>...</td>\n",
              "      <td>...</td>\n",
              "    </tr>\n",
              "    <tr>\n",
              "      <th>1987</th>\n",
              "      <td>1988</td>\n",
              "      <td>Male</td>\n",
              "      <td>63</td>\n",
              "      <td>59244</td>\n",
              "      <td>80</td>\n",
              "      <td>Artist</td>\n",
              "      <td>7</td>\n",
              "      <td>1</td>\n",
              "    </tr>\n",
              "    <tr>\n",
              "      <th>1988</th>\n",
              "      <td>1989</td>\n",
              "      <td>Female</td>\n",
              "      <td>54</td>\n",
              "      <td>118944</td>\n",
              "      <td>77</td>\n",
              "      <td>Artist</td>\n",
              "      <td>4</td>\n",
              "      <td>4</td>\n",
              "    </tr>\n",
              "    <tr>\n",
              "      <th>1990</th>\n",
              "      <td>1991</td>\n",
              "      <td>Female</td>\n",
              "      <td>30</td>\n",
              "      <td>166983</td>\n",
              "      <td>69</td>\n",
              "      <td>Artist</td>\n",
              "      <td>7</td>\n",
              "      <td>3</td>\n",
              "    </tr>\n",
              "    <tr>\n",
              "      <th>1993</th>\n",
              "      <td>1994</td>\n",
              "      <td>Female</td>\n",
              "      <td>64</td>\n",
              "      <td>175254</td>\n",
              "      <td>100</td>\n",
              "      <td>Artist</td>\n",
              "      <td>9</td>\n",
              "      <td>5</td>\n",
              "    </tr>\n",
              "    <tr>\n",
              "      <th>1995</th>\n",
              "      <td>1996</td>\n",
              "      <td>Female</td>\n",
              "      <td>71</td>\n",
              "      <td>184387</td>\n",
              "      <td>40</td>\n",
              "      <td>Artist</td>\n",
              "      <td>8</td>\n",
              "      <td>7</td>\n",
              "    </tr>\n",
              "  </tbody>\n",
              "</table>\n",
              "<p>612 rows × 8 columns</p>\n",
              "</div>\n",
              "      <button class=\"colab-df-convert\" onclick=\"convertToInteractive('df-cbb66f9f-b7a0-4500-a6f1-a980c4d4b015')\"\n",
              "              title=\"Convert this dataframe to an interactive table.\"\n",
              "              style=\"display:none;\">\n",
              "        \n",
              "  <svg xmlns=\"http://www.w3.org/2000/svg\" height=\"24px\"viewBox=\"0 0 24 24\"\n",
              "       width=\"24px\">\n",
              "    <path d=\"M0 0h24v24H0V0z\" fill=\"none\"/>\n",
              "    <path d=\"M18.56 5.44l.94 2.06.94-2.06 2.06-.94-2.06-.94-.94-2.06-.94 2.06-2.06.94zm-11 1L8.5 8.5l.94-2.06 2.06-.94-2.06-.94L8.5 2.5l-.94 2.06-2.06.94zm10 10l.94 2.06.94-2.06 2.06-.94-2.06-.94-.94-2.06-.94 2.06-2.06.94z\"/><path d=\"M17.41 7.96l-1.37-1.37c-.4-.4-.92-.59-1.43-.59-.52 0-1.04.2-1.43.59L10.3 9.45l-7.72 7.72c-.78.78-.78 2.05 0 2.83L4 21.41c.39.39.9.59 1.41.59.51 0 1.02-.2 1.41-.59l7.78-7.78 2.81-2.81c.8-.78.8-2.07 0-2.86zM5.41 20L4 18.59l7.72-7.72 1.47 1.35L5.41 20z\"/>\n",
              "  </svg>\n",
              "      </button>\n",
              "      \n",
              "  <style>\n",
              "    .colab-df-container {\n",
              "      display:flex;\n",
              "      flex-wrap:wrap;\n",
              "      gap: 12px;\n",
              "    }\n",
              "\n",
              "    .colab-df-convert {\n",
              "      background-color: #E8F0FE;\n",
              "      border: none;\n",
              "      border-radius: 50%;\n",
              "      cursor: pointer;\n",
              "      display: none;\n",
              "      fill: #1967D2;\n",
              "      height: 32px;\n",
              "      padding: 0 0 0 0;\n",
              "      width: 32px;\n",
              "    }\n",
              "\n",
              "    .colab-df-convert:hover {\n",
              "      background-color: #E2EBFA;\n",
              "      box-shadow: 0px 1px 2px rgba(60, 64, 67, 0.3), 0px 1px 3px 1px rgba(60, 64, 67, 0.15);\n",
              "      fill: #174EA6;\n",
              "    }\n",
              "\n",
              "    [theme=dark] .colab-df-convert {\n",
              "      background-color: #3B4455;\n",
              "      fill: #D2E3FC;\n",
              "    }\n",
              "\n",
              "    [theme=dark] .colab-df-convert:hover {\n",
              "      background-color: #434B5C;\n",
              "      box-shadow: 0px 1px 3px 1px rgba(0, 0, 0, 0.15);\n",
              "      filter: drop-shadow(0px 1px 2px rgba(0, 0, 0, 0.3));\n",
              "      fill: #FFFFFF;\n",
              "    }\n",
              "  </style>\n",
              "\n",
              "      <script>\n",
              "        const buttonEl =\n",
              "          document.querySelector('#df-cbb66f9f-b7a0-4500-a6f1-a980c4d4b015 button.colab-df-convert');\n",
              "        buttonEl.style.display =\n",
              "          google.colab.kernel.accessAllowed ? 'block' : 'none';\n",
              "\n",
              "        async function convertToInteractive(key) {\n",
              "          const element = document.querySelector('#df-cbb66f9f-b7a0-4500-a6f1-a980c4d4b015');\n",
              "          const dataTable =\n",
              "            await google.colab.kernel.invokeFunction('convertToInteractive',\n",
              "                                                     [key], {});\n",
              "          if (!dataTable) return;\n",
              "\n",
              "          const docLinkHtml = 'Like what you see? Visit the ' +\n",
              "            '<a target=\"_blank\" href=https://colab.research.google.com/notebooks/data_table.ipynb>data table notebook</a>'\n",
              "            + ' to learn more about interactive tables.';\n",
              "          element.innerHTML = '';\n",
              "          dataTable['output_type'] = 'display_data';\n",
              "          await google.colab.output.renderOutput(dataTable, element);\n",
              "          const docLink = document.createElement('div');\n",
              "          docLink.innerHTML = docLinkHtml;\n",
              "          element.appendChild(docLink);\n",
              "        }\n",
              "      </script>\n",
              "    </div>\n",
              "  </div>\n",
              "  "
            ]
          },
          "metadata": {},
          "execution_count": 15
        }
      ]
    },
    {
      "cell_type": "code",
      "source": [
        "Artist_Profession.describe"
      ],
      "metadata": {
        "colab": {
          "base_uri": "https://localhost:8080/"
        },
        "id": "7cO__KJhDuWN",
        "outputId": "bdf789d4-7b91-4d8a-88c7-5560902bab69"
      },
      "execution_count": null,
      "outputs": [
        {
          "output_type": "execute_result",
          "data": {
            "text/plain": [
              "<bound method NDFrame.describe of       CustomerID  Gender  Age  Annual Income ($)  Spending Score (1-100)  \\\n",
              "5              6  Female   22              58000                      76   \n",
              "9             10  Female   30              98000                      72   \n",
              "19            20  Female   35              62000                      98   \n",
              "22            23  Female   46              42000                       5   \n",
              "23            24    Male   31              71000                      73   \n",
              "...          ...     ...  ...                ...                     ...   \n",
              "1987        1988    Male   63              59244                      80   \n",
              "1988        1989  Female   54             118944                      77   \n",
              "1990        1991  Female   30             166983                      69   \n",
              "1993        1994  Female   64             175254                     100   \n",
              "1995        1996  Female   71             184387                      40   \n",
              "\n",
              "     Profession  Work Experience  Family Size  \n",
              "5        Artist                0            2  \n",
              "9        Artist                1            4  \n",
              "19       Artist                0            1  \n",
              "22       Artist               13            2  \n",
              "23       Artist                5            2  \n",
              "...         ...              ...          ...  \n",
              "1987     Artist                7            1  \n",
              "1988     Artist                4            4  \n",
              "1990     Artist                7            3  \n",
              "1993     Artist                9            5  \n",
              "1995     Artist                8            7  \n",
              "\n",
              "[612 rows x 8 columns]>"
            ]
          },
          "metadata": {},
          "execution_count": 16
        }
      ]
    },
    {
      "cell_type": "code",
      "source": [
        "import plotly.express as px\n",
        "fig = px.box(Artist_Profession, y='Age')\n",
        "fig.show()"
      ],
      "metadata": {
        "colab": {
          "base_uri": "https://localhost:8080/",
          "height": 542
        },
        "id": "JW7DBz0VDyCI",
        "outputId": "acbdfb0f-39e0-4357-c53a-2ffb01f5dd0d"
      },
      "execution_count": null,
      "outputs": [
        {
          "output_type": "display_data",
          "data": {
            "text/html": [
              "<html>\n",
              "<head><meta charset=\"utf-8\" /></head>\n",
              "<body>\n",
              "    <div>            <script src=\"https://cdnjs.cloudflare.com/ajax/libs/mathjax/2.7.5/MathJax.js?config=TeX-AMS-MML_SVG\"></script><script type=\"text/javascript\">if (window.MathJax && window.MathJax.Hub && window.MathJax.Hub.Config) {window.MathJax.Hub.Config({SVG: {font: \"STIX-Web\"}});}</script>                <script type=\"text/javascript\">window.PlotlyConfig = {MathJaxConfig: 'local'};</script>\n",
              "        <script src=\"https://cdn.plot.ly/plotly-2.18.2.min.js\"></script>                <div id=\"cd5ef228-12fc-45b5-862a-a306fac5f684\" class=\"plotly-graph-div\" style=\"height:525px; width:100%;\"></div>            <script type=\"text/javascript\">                                    window.PLOTLYENV=window.PLOTLYENV || {};                                    if (document.getElementById(\"cd5ef228-12fc-45b5-862a-a306fac5f684\")) {                    Plotly.newPlot(                        \"cd5ef228-12fc-45b5-862a-a306fac5f684\",                        [{\"alignmentgroup\":\"True\",\"hovertemplate\":\"Age=%{y}<extra></extra>\",\"legendgroup\":\"\",\"marker\":{\"color\":\"#636efa\"},\"name\":\"\",\"notched\":false,\"offsetgroup\":\"\",\"orientation\":\"v\",\"showlegend\":false,\"x0\":\" \",\"xaxis\":\"x\",\"y\":[22,30,35,46,31,29,35,40,23,60,36,20,65,48,31,50,49,33,31,47,27,70,19,68,19,60,59,40,67,55,22,18,48,32,24,47,27,23,67,19,19,49,50,40,31,44,32,35,32,34,38,30,30,56,36,33,36,32,40,36,30,37,46,29,41,30,36,34,32,38,47,45,32,30,46,0,39,43,25,4,14,65,77,53,32,37,78,79,63,40,78,52,18,37,93,52,63,86,11,17,63,45,91,16,78,0,76,84,22,99,88,92,90,46,60,52,22,46,82,8,34,10,79,83,20,25,7,21,86,75,13,65,65,86,36,35,33,68,23,25,6,3,95,7,54,12,8,15,1,21,93,47,91,20,32,13,60,66,57,59,90,14,41,5,70,17,31,81,37,97,48,47,87,91,84,56,6,25,89,40,0,69,19,65,91,64,91,32,22,33,49,42,71,15,12,94,7,55,44,79,43,63,32,91,61,85,57,16,94,31,49,59,15,93,1,57,17,54,96,91,8,62,38,56,54,31,36,9,88,5,41,80,98,13,4,12,91,83,64,19,95,30,67,1,75,61,44,92,89,78,67,28,67,65,67,22,12,90,62,30,68,16,29,85,5,95,67,85,84,75,17,1,21,40,24,4,90,52,14,30,70,2,30,68,0,18,43,39,45,65,32,25,12,63,31,59,56,66,36,17,32,50,17,24,80,8,83,85,88,85,1,33,60,15,74,49,43,46,65,22,72,38,50,34,63,80,84,45,23,90,6,84,41,33,92,89,65,74,30,13,85,41,74,62,52,84,51,57,28,1,34,18,19,74,44,52,32,16,57,38,40,88,97,93,84,82,83,1,32,60,92,93,96,78,86,62,70,95,89,59,88,96,47,53,24,7,72,95,36,84,98,98,24,47,68,18,81,61,93,83,12,97,28,27,6,42,50,23,97,23,45,82,33,88,64,48,64,44,81,64,97,88,21,62,39,13,48,34,16,56,20,7,12,25,14,18,9,49,58,25,63,41,72,97,63,7,27,84,75,60,49,25,5,58,80,94,20,25,17,23,97,94,28,25,53,97,63,76,30,86,40,26,42,60,83,27,93,80,16,86,56,41,94,96,82,83,55,6,27,58,80,8,71,17,68,24,39,41,94,1,2,96,81,4,2,95,24,51,9,87,67,36,51,31,57,83,70,9,33,67,94,35,62,58,15,79,91,62,53,64,27,33,22,8,81,61,62,13,75,29,82,66,99,49,34,38,4,6,55,70,67,80,89,18,79,92,43,66,87,7,91,10,20,84,90,43,43,71,52,98,78,64,9,24,8,52,44,71,68,68,1,71,39,40,15,4,8,9,0,95,87,14,54,76,52,96,54,19,20,1,59,88,61,46,84,10,62,63,54,30,64,71],\"y0\":\" \",\"yaxis\":\"y\",\"type\":\"box\"}],                        {\"template\":{\"data\":{\"histogram2dcontour\":[{\"type\":\"histogram2dcontour\",\"colorbar\":{\"outlinewidth\":0,\"ticks\":\"\"},\"colorscale\":[[0.0,\"#0d0887\"],[0.1111111111111111,\"#46039f\"],[0.2222222222222222,\"#7201a8\"],[0.3333333333333333,\"#9c179e\"],[0.4444444444444444,\"#bd3786\"],[0.5555555555555556,\"#d8576b\"],[0.6666666666666666,\"#ed7953\"],[0.7777777777777778,\"#fb9f3a\"],[0.8888888888888888,\"#fdca26\"],[1.0,\"#f0f921\"]]}],\"choropleth\":[{\"type\":\"choropleth\",\"colorbar\":{\"outlinewidth\":0,\"ticks\":\"\"}}],\"histogram2d\":[{\"type\":\"histogram2d\",\"colorbar\":{\"outlinewidth\":0,\"ticks\":\"\"},\"colorscale\":[[0.0,\"#0d0887\"],[0.1111111111111111,\"#46039f\"],[0.2222222222222222,\"#7201a8\"],[0.3333333333333333,\"#9c179e\"],[0.4444444444444444,\"#bd3786\"],[0.5555555555555556,\"#d8576b\"],[0.6666666666666666,\"#ed7953\"],[0.7777777777777778,\"#fb9f3a\"],[0.8888888888888888,\"#fdca26\"],[1.0,\"#f0f921\"]]}],\"heatmap\":[{\"type\":\"heatmap\",\"colorbar\":{\"outlinewidth\":0,\"ticks\":\"\"},\"colorscale\":[[0.0,\"#0d0887\"],[0.1111111111111111,\"#46039f\"],[0.2222222222222222,\"#7201a8\"],[0.3333333333333333,\"#9c179e\"],[0.4444444444444444,\"#bd3786\"],[0.5555555555555556,\"#d8576b\"],[0.6666666666666666,\"#ed7953\"],[0.7777777777777778,\"#fb9f3a\"],[0.8888888888888888,\"#fdca26\"],[1.0,\"#f0f921\"]]}],\"heatmapgl\":[{\"type\":\"heatmapgl\",\"colorbar\":{\"outlinewidth\":0,\"ticks\":\"\"},\"colorscale\":[[0.0,\"#0d0887\"],[0.1111111111111111,\"#46039f\"],[0.2222222222222222,\"#7201a8\"],[0.3333333333333333,\"#9c179e\"],[0.4444444444444444,\"#bd3786\"],[0.5555555555555556,\"#d8576b\"],[0.6666666666666666,\"#ed7953\"],[0.7777777777777778,\"#fb9f3a\"],[0.8888888888888888,\"#fdca26\"],[1.0,\"#f0f921\"]]}],\"contourcarpet\":[{\"type\":\"contourcarpet\",\"colorbar\":{\"outlinewidth\":0,\"ticks\":\"\"}}],\"contour\":[{\"type\":\"contour\",\"colorbar\":{\"outlinewidth\":0,\"ticks\":\"\"},\"colorscale\":[[0.0,\"#0d0887\"],[0.1111111111111111,\"#46039f\"],[0.2222222222222222,\"#7201a8\"],[0.3333333333333333,\"#9c179e\"],[0.4444444444444444,\"#bd3786\"],[0.5555555555555556,\"#d8576b\"],[0.6666666666666666,\"#ed7953\"],[0.7777777777777778,\"#fb9f3a\"],[0.8888888888888888,\"#fdca26\"],[1.0,\"#f0f921\"]]}],\"surface\":[{\"type\":\"surface\",\"colorbar\":{\"outlinewidth\":0,\"ticks\":\"\"},\"colorscale\":[[0.0,\"#0d0887\"],[0.1111111111111111,\"#46039f\"],[0.2222222222222222,\"#7201a8\"],[0.3333333333333333,\"#9c179e\"],[0.4444444444444444,\"#bd3786\"],[0.5555555555555556,\"#d8576b\"],[0.6666666666666666,\"#ed7953\"],[0.7777777777777778,\"#fb9f3a\"],[0.8888888888888888,\"#fdca26\"],[1.0,\"#f0f921\"]]}],\"mesh3d\":[{\"type\":\"mesh3d\",\"colorbar\":{\"outlinewidth\":0,\"ticks\":\"\"}}],\"scatter\":[{\"fillpattern\":{\"fillmode\":\"overlay\",\"size\":10,\"solidity\":0.2},\"type\":\"scatter\"}],\"parcoords\":[{\"type\":\"parcoords\",\"line\":{\"colorbar\":{\"outlinewidth\":0,\"ticks\":\"\"}}}],\"scatterpolargl\":[{\"type\":\"scatterpolargl\",\"marker\":{\"colorbar\":{\"outlinewidth\":0,\"ticks\":\"\"}}}],\"bar\":[{\"error_x\":{\"color\":\"#2a3f5f\"},\"error_y\":{\"color\":\"#2a3f5f\"},\"marker\":{\"line\":{\"color\":\"#E5ECF6\",\"width\":0.5},\"pattern\":{\"fillmode\":\"overlay\",\"size\":10,\"solidity\":0.2}},\"type\":\"bar\"}],\"scattergeo\":[{\"type\":\"scattergeo\",\"marker\":{\"colorbar\":{\"outlinewidth\":0,\"ticks\":\"\"}}}],\"scatterpolar\":[{\"type\":\"scatterpolar\",\"marker\":{\"colorbar\":{\"outlinewidth\":0,\"ticks\":\"\"}}}],\"histogram\":[{\"marker\":{\"pattern\":{\"fillmode\":\"overlay\",\"size\":10,\"solidity\":0.2}},\"type\":\"histogram\"}],\"scattergl\":[{\"type\":\"scattergl\",\"marker\":{\"colorbar\":{\"outlinewidth\":0,\"ticks\":\"\"}}}],\"scatter3d\":[{\"type\":\"scatter3d\",\"line\":{\"colorbar\":{\"outlinewidth\":0,\"ticks\":\"\"}},\"marker\":{\"colorbar\":{\"outlinewidth\":0,\"ticks\":\"\"}}}],\"scattermapbox\":[{\"type\":\"scattermapbox\",\"marker\":{\"colorbar\":{\"outlinewidth\":0,\"ticks\":\"\"}}}],\"scatterternary\":[{\"type\":\"scatterternary\",\"marker\":{\"colorbar\":{\"outlinewidth\":0,\"ticks\":\"\"}}}],\"scattercarpet\":[{\"type\":\"scattercarpet\",\"marker\":{\"colorbar\":{\"outlinewidth\":0,\"ticks\":\"\"}}}],\"carpet\":[{\"aaxis\":{\"endlinecolor\":\"#2a3f5f\",\"gridcolor\":\"white\",\"linecolor\":\"white\",\"minorgridcolor\":\"white\",\"startlinecolor\":\"#2a3f5f\"},\"baxis\":{\"endlinecolor\":\"#2a3f5f\",\"gridcolor\":\"white\",\"linecolor\":\"white\",\"minorgridcolor\":\"white\",\"startlinecolor\":\"#2a3f5f\"},\"type\":\"carpet\"}],\"table\":[{\"cells\":{\"fill\":{\"color\":\"#EBF0F8\"},\"line\":{\"color\":\"white\"}},\"header\":{\"fill\":{\"color\":\"#C8D4E3\"},\"line\":{\"color\":\"white\"}},\"type\":\"table\"}],\"barpolar\":[{\"marker\":{\"line\":{\"color\":\"#E5ECF6\",\"width\":0.5},\"pattern\":{\"fillmode\":\"overlay\",\"size\":10,\"solidity\":0.2}},\"type\":\"barpolar\"}],\"pie\":[{\"automargin\":true,\"type\":\"pie\"}]},\"layout\":{\"autotypenumbers\":\"strict\",\"colorway\":[\"#636efa\",\"#EF553B\",\"#00cc96\",\"#ab63fa\",\"#FFA15A\",\"#19d3f3\",\"#FF6692\",\"#B6E880\",\"#FF97FF\",\"#FECB52\"],\"font\":{\"color\":\"#2a3f5f\"},\"hovermode\":\"closest\",\"hoverlabel\":{\"align\":\"left\"},\"paper_bgcolor\":\"white\",\"plot_bgcolor\":\"#E5ECF6\",\"polar\":{\"bgcolor\":\"#E5ECF6\",\"angularaxis\":{\"gridcolor\":\"white\",\"linecolor\":\"white\",\"ticks\":\"\"},\"radialaxis\":{\"gridcolor\":\"white\",\"linecolor\":\"white\",\"ticks\":\"\"}},\"ternary\":{\"bgcolor\":\"#E5ECF6\",\"aaxis\":{\"gridcolor\":\"white\",\"linecolor\":\"white\",\"ticks\":\"\"},\"baxis\":{\"gridcolor\":\"white\",\"linecolor\":\"white\",\"ticks\":\"\"},\"caxis\":{\"gridcolor\":\"white\",\"linecolor\":\"white\",\"ticks\":\"\"}},\"coloraxis\":{\"colorbar\":{\"outlinewidth\":0,\"ticks\":\"\"}},\"colorscale\":{\"sequential\":[[0.0,\"#0d0887\"],[0.1111111111111111,\"#46039f\"],[0.2222222222222222,\"#7201a8\"],[0.3333333333333333,\"#9c179e\"],[0.4444444444444444,\"#bd3786\"],[0.5555555555555556,\"#d8576b\"],[0.6666666666666666,\"#ed7953\"],[0.7777777777777778,\"#fb9f3a\"],[0.8888888888888888,\"#fdca26\"],[1.0,\"#f0f921\"]],\"sequentialminus\":[[0.0,\"#0d0887\"],[0.1111111111111111,\"#46039f\"],[0.2222222222222222,\"#7201a8\"],[0.3333333333333333,\"#9c179e\"],[0.4444444444444444,\"#bd3786\"],[0.5555555555555556,\"#d8576b\"],[0.6666666666666666,\"#ed7953\"],[0.7777777777777778,\"#fb9f3a\"],[0.8888888888888888,\"#fdca26\"],[1.0,\"#f0f921\"]],\"diverging\":[[0,\"#8e0152\"],[0.1,\"#c51b7d\"],[0.2,\"#de77ae\"],[0.3,\"#f1b6da\"],[0.4,\"#fde0ef\"],[0.5,\"#f7f7f7\"],[0.6,\"#e6f5d0\"],[0.7,\"#b8e186\"],[0.8,\"#7fbc41\"],[0.9,\"#4d9221\"],[1,\"#276419\"]]},\"xaxis\":{\"gridcolor\":\"white\",\"linecolor\":\"white\",\"ticks\":\"\",\"title\":{\"standoff\":15},\"zerolinecolor\":\"white\",\"automargin\":true,\"zerolinewidth\":2},\"yaxis\":{\"gridcolor\":\"white\",\"linecolor\":\"white\",\"ticks\":\"\",\"title\":{\"standoff\":15},\"zerolinecolor\":\"white\",\"automargin\":true,\"zerolinewidth\":2},\"scene\":{\"xaxis\":{\"backgroundcolor\":\"#E5ECF6\",\"gridcolor\":\"white\",\"linecolor\":\"white\",\"showbackground\":true,\"ticks\":\"\",\"zerolinecolor\":\"white\",\"gridwidth\":2},\"yaxis\":{\"backgroundcolor\":\"#E5ECF6\",\"gridcolor\":\"white\",\"linecolor\":\"white\",\"showbackground\":true,\"ticks\":\"\",\"zerolinecolor\":\"white\",\"gridwidth\":2},\"zaxis\":{\"backgroundcolor\":\"#E5ECF6\",\"gridcolor\":\"white\",\"linecolor\":\"white\",\"showbackground\":true,\"ticks\":\"\",\"zerolinecolor\":\"white\",\"gridwidth\":2}},\"shapedefaults\":{\"line\":{\"color\":\"#2a3f5f\"}},\"annotationdefaults\":{\"arrowcolor\":\"#2a3f5f\",\"arrowhead\":0,\"arrowwidth\":1},\"geo\":{\"bgcolor\":\"white\",\"landcolor\":\"#E5ECF6\",\"subunitcolor\":\"white\",\"showland\":true,\"showlakes\":true,\"lakecolor\":\"white\"},\"title\":{\"x\":0.05},\"mapbox\":{\"style\":\"light\"}}},\"xaxis\":{\"anchor\":\"y\",\"domain\":[0.0,1.0]},\"yaxis\":{\"anchor\":\"x\",\"domain\":[0.0,1.0],\"title\":{\"text\":\"Age\"}},\"legend\":{\"tracegroupgap\":0},\"margin\":{\"t\":60},\"boxmode\":\"group\"},                        {\"responsive\": true}                    ).then(function(){\n",
              "                            \n",
              "var gd = document.getElementById('cd5ef228-12fc-45b5-862a-a306fac5f684');\n",
              "var x = new MutationObserver(function (mutations, observer) {{\n",
              "        var display = window.getComputedStyle(gd).display;\n",
              "        if (!display || display === 'none') {{\n",
              "            console.log([gd, 'removed!']);\n",
              "            Plotly.purge(gd);\n",
              "            observer.disconnect();\n",
              "        }}\n",
              "}});\n",
              "\n",
              "// Listen for the removal of the full notebook cells\n",
              "var notebookContainer = gd.closest('#notebook-container');\n",
              "if (notebookContainer) {{\n",
              "    x.observe(notebookContainer, {childList: true});\n",
              "}}\n",
              "\n",
              "// Listen for the clearing of the current output cell\n",
              "var outputEl = gd.closest('.output');\n",
              "if (outputEl) {{\n",
              "    x.observe(outputEl, {childList: true});\n",
              "}}\n",
              "\n",
              "                        })                };                            </script>        </div>\n",
              "</body>\n",
              "</html>"
            ]
          },
          "metadata": {}
        }
      ]
    },
    {
      "cell_type": "markdown",
      "source": [
        "## **Summary**\n",
        "\n",
        "\n",
        "*  The box plot shows the Artist_Profession defined by Age on y axis\n",
        "\n",
        "*   By hovering over the point on box plot are showing Minnimum,First Quartile,Median,Third Quartile,Inter Quatile Range and outliers as respective ages for Artist profession.\n",
        "\n",
        "\n",
        "*  Median Age could be seen as 47.\n",
        "*  Inter Quatile range could be seen as (q1-q3) which is (25,72)\n",
        "\n",
        "\n",
        "\n"
      ],
      "metadata": {
        "id": "isnzhhoU30x6"
      }
    },
    {
      "cell_type": "code",
      "source": [
        "fig = px.scatter(data, x=\"Annual Income ($)\",y='Spending Score (1-100)')\n",
        "fig.show()"
      ],
      "metadata": {
        "colab": {
          "base_uri": "https://localhost:8080/",
          "height": 542
        },
        "id": "YkgOY3R7ETH9",
        "outputId": "62016bd6-2c6c-446d-b97c-34c5920406a1"
      },
      "execution_count": null,
      "outputs": [
        {
          "output_type": "display_data",
          "data": {
            "text/html": [
              "<html>\n",
              "<head><meta charset=\"utf-8\" /></head>\n",
              "<body>\n",
              "    <div>            <script src=\"https://cdnjs.cloudflare.com/ajax/libs/mathjax/2.7.5/MathJax.js?config=TeX-AMS-MML_SVG\"></script><script type=\"text/javascript\">if (window.MathJax && window.MathJax.Hub && window.MathJax.Hub.Config) {window.MathJax.Hub.Config({SVG: {font: \"STIX-Web\"}});}</script>                <script type=\"text/javascript\">window.PlotlyConfig = {MathJaxConfig: 'local'};</script>\n",
              "        <script src=\"https://cdn.plot.ly/plotly-2.18.2.min.js\"></script>                <div id=\"07333b97-322a-4b0b-9c96-d9da86a4a834\" class=\"plotly-graph-div\" style=\"height:525px; width:100%;\"></div>            <script type=\"text/javascript\">                                    window.PLOTLYENV=window.PLOTLYENV || {};                                    if (document.getElementById(\"07333b97-322a-4b0b-9c96-d9da86a4a834\")) {                    Plotly.newPlot(                        \"07333b97-322a-4b0b-9c96-d9da86a4a834\",                        [{\"hovertemplate\":\"Annual Income ($)=%{x}<br>Spending Score (1-100)=%{y}<extra></extra>\",\"legendgroup\":\"\",\"marker\":{\"color\":\"#636efa\",\"symbol\":\"circle\"},\"mode\":\"markers\",\"name\":\"\",\"showlegend\":false,\"x\":[15000,35000,86000,59000,38000,58000,31000,84000,97000,98000,7000,93000,80000,91000,19000,51000,29000,89000,20000,62000,96000,4000,42000,71000,67000,52000,68000,78000,18000,20000,39000,34000,59000,62000,91000,95000,14000,62000,9000,69000,25000,85000,22000,33000,72000,3000,52000,71000,78000,25000,88000,97000,74000,68000,18000,95000,71000,8000,57000,89000,84000,50000,50000,48000,63000,9000,3000,82000,81000,97000,91000,9000,44000,10000,89000,49000,67000,99000,97000,52000,61000,120000,34000,24000,31000,11000,55000,76000,56000,46000,36000,88000,31000,24000,80000,2000,67000,58000,80000,65000,4000,98000,52000,86000,82000,43000,78000,13000,13000,34000,25000,71000,2000,97000,51000,9000,79000,87000,36000,50000,97000,6000,12000,46000,89000,4000,38000,64000,66000,26000,41000,45000,89000,92000,76000,85000,22000,15000,32000,66000,62000,85000,71000,26000,52000,38000,51000,90000,30000,41000,17000,92000,80000,10000,16000,87000,66000,86000,9000,50000,35000,58000,47000,54000,79000,83000,57000,0,69000,4000,79000,99000,20000,28000,29000,45000,86000,42000,59000,61000,11000,66000,39000,72000,14000,44000,76000,95000,92000,98000,96000,45000,8000,46000,78000,4000,81000,33000,40000,85000,60000,60000,63000,10000,55000,93000,15000,39000,57000,22000,12000,50000,95000,66000,20000,35000,71000,84000,72000,33000,93000,83000,23000,40000,89000,33000,94000,93000,7000,18000,3000,84000,62000,9000,37000,50000,83000,79000,40000,47000,4000,38000,0,7000,41000,65000,20000,44000,3000,72000,27000,85000,38000,73000,64000,26000,47000,35000,31000,13000,79000,82000,28000,36000,8000,88000,91000,12000,1000,143000,18000,65000,9000,95000,78000,48000,63000,85000,43000,74000,67000,59000,140000,31000,5000,19000,27000,68000,38000,50000,80000,69000,31000,87000,79000,32000,153787,95851,145015,148539,117319,180243,165052,120487,112766,156488,97562,77501,118302,64277,53927,93921,132046,183217,182937,68272,69841,69078,110667,95469,102861,133551,64589,152755,92313,98922,165846,93713,137641,173743,116126,112246,69384,76529,123804,68292,173185,142034,107941,149840,148431,126599,57180,184426,151085,166107,67850,173394,72303,181760,146858,172923,115811,184324,67353,165999,164914,63364,182352,148544,62833,120627,130898,103130,106681,87353,88046,98168,178265,167232,140478,159296,144043,72594,180288,165734,175407,70201,91503,184522,143560,131574,151124,67447,117454,86203,136231,89144,119116,163463,151696,184736,70419,119104,130950,140950,82285,91389,186359,178989,166335,119889,66852,103896,187761,102717,102647,113585,86509,59099,135088,110870,187667,124614,166492,172758,122430,183540,96484,112587,155672,72847,71897,158479,89251,179911,111558,127615,50076,77779,169999,106581,78223,153399,162858,133602,66322,68761,70749,65874,115996,67097,108027,176349,88452,128266,156777,123234,60790,181332,187297,153885,53500,69443,124072,135800,120597,91358,53231,156330,186002,111760,143906,182410,98463,93762,104582,130813,59202,79968,104824,188719,187536,134008,176397,154888,155622,62330,112838,58283,77857,125024,136242,81934,130511,144502,63769,66760,135115,179877,93351,84547,65723,96794,72352,53097,144831,183851,111896,64824,88565,104974,167060,69018,174109,62186,183783,83771,148196,131742,59971,88960,140107,161896,57272,119952,167197,186116,134677,180479,112783,150258,115832,104834,152571,162287,171761,77709,95053,74820,152267,71925,151340,162921,52234,100271,170266,88763,164781,156016,186882,99300,58127,89211,148607,139592,172051,57033,117612,185321,186577,151298,123925,169496,142892,58979,141416,104854,180331,172896,101451,189974,90084,112247,181775,59088,60856,149900,142776,162598,146195,135268,136037,111191,144111,177359,112818,53509,168269,86766,52661,148520,149936,102296,178416,83788,184771,70302,58639,97879,64707,71795,76567,154007,69720,85265,155864,99421,145457,118041,73759,90082,74928,101352,93947,134629,101858,165501,135931,103356,75195,123083,73884,91180,86235,96400,83599,82535,92227,150444,149095,113605,93854,118280,94576,129257,70373,77600,113707,189672,143180,174890,154857,160945,119557,187141,97468,160351,178627,170188,166007,91794,189072,152717,158549,134263,148236,171677,189446,106633,81084,148759,117638,159537,79526,109519,156880,157278,144916,59163,93991,58318,180786,84622,92674,87553,74174,180831,137397,96154,172477,59954,112240,145679,136265,74869,109425,126015,156951,127172,113834,132005,171323,92355,60982,51742,138612,158123,164675,172882,70119,113998,57265,130597,121597,103210,66308,141336,153632,65520,153217,92768,132345,186069,53802,103739,50550,145648,85737,99950,83220,73410,64310,59844,67787,172841,145528,173807,185794,119780,158596,118122,99964,120752,189630,125510,101799,92914,162465,163818,53832,140190,125836,100938,168670,176885,111174,127335,149103,167705,183548,50396,63557,87878,55634,118110,129396,62628,51700,106816,93000,144148,101388,171560,156366,143910,106569,173009,54252,104600,50250,93242,156839,71305,85975,188107,82333,125016,148908,58217,76521,117763,115184,54251,112530,107409,84793,66952,153465,178214,152069,132860,147719,172915,148594,61986,91456,166247,140516,133822,175424,121528,189369,80808,57535,163509,75884,157759,184813,187253,81718,150019,53452,150765,56647,117477,79677,116759,180702,122698,169346,93176,75853,119362,81545,67372,109703,166697,124982,146776,147548,117620,85351,174432,70787,75473,90082,185388,168110,184628,176551,76422,164248,109188,132951,164598,111859,121926,143047,131748,142801,142723,155151,153607,144192,174159,73642,170319,141351,167411,58289,79801,146118,57337,113575,122658,151836,185900,94029,157290,175996,102016,77902,81138,128258,62475,82854,59284,141580,171362,78274,76646,78308,78971,65528,94199,135705,130573,152303,144582,93288,88192,62362,74350,144103,75518,160980,102904,157661,118385,116463,161212,172601,167214,69644,120215,180401,113739,111717,62808,67582,96543,89667,98980,124998,189091,153842,106314,62901,149618,72068,118575,82382,114776,145597,162072,172872,182162,71467,85568,56851,116782,67781,70152,185861,162595,80098,184801,58908,146011,135174,114244,157207,128834,51166,130118,87014,111379,83704,90558,187343,111174,64461,109618,189357,120955,168898,130431,161091,69988,169702,186897,109061,188620,108675,177601,87365,95929,97185,103838,129260,151184,177512,140099,67535,133236,87975,164350,55109,67613,185306,154787,109759,114571,130697,115916,69814,118161,56583,185843,171825,77976,66312,81839,55712,158335,74253,119625,129743,101007,87529,151648,164659,125623,104054,83535,166245,100890,55972,134282,106669,145777,119259,150174,55472,99423,146221,84238,57032,88811,167420,101846,114061,147449,83043,168990,73867,165772,178217,162612,99872,142566,111424,187841,171921,115299,94129,172378,146597,64057,163585,93186,149764,116822,109346,111587,166644,181270,65207,112146,104953,139009,67916,99983,131122,173190,122712,55792,73892,152475,152226,117679,146473,66051,162332,166018,67398,73760,167578,130267,94846,155396,138013,148286,101031,52884,153230,63261,90167,53622,172913,94316,67874,176554,135341,129019,107879,79531,63379,156258,67874,159964,103706,64713,90414,171100,187305,139758,91226,143928,92366,175041,147301,119296,126306,100647,168663,105391,175179,165019,68212,64572,92591,69730,156793,56848,148450,150619,100261,109895,152684,133765,57677,112358,73845,89531,118092,144242,140876,76888,116644,143021,145679,64398,104512,71564,122707,51733,138087,147278,187339,129972,151176,74358,83953,62925,65257,188557,163783,108342,155951,183071,124104,136747,189498,76149,185550,119567,79806,180774,90142,184481,66089,60044,52543,50429,178228,161130,87976,179150,163442,108159,73419,138425,54431,168437,71322,141428,142214,62590,172523,157588,143313,119833,70803,139008,126669,122722,79800,100155,110846,106841,117181,86898,143241,146028,165287,132486,96424,151468,76561,125316,109373,135042,59784,140687,182927,175534,170957,81197,104888,139588,126543,177260,156823,183201,84925,69719,61355,156014,184088,158372,135742,145704,157307,88064,167226,153821,170669,93555,101941,78795,55875,177513,100850,143082,85447,114213,161120,186682,105302,133400,56432,136467,189945,163966,52152,145720,188034,127911,174114,144489,77440,86119,100056,66686,74696,65641,61228,138529,152405,157757,166361,67227,161156,170647,161646,98016,50526,175208,97721,142013,166737,62651,179546,51866,86297,65031,69383,70733,187898,116001,87040,180956,115517,76979,50798,146350,81112,80605,171949,159006,177368,187643,93841,131061,146130,84471,144485,158638,96693,129507,114510,149031,66256,118285,128723,178285,144176,82474,159010,76164,77873,53392,168898,128917,185067,132183,82060,133614,76474,94655,60933,79257,125677,127971,76103,114741,157994,93786,75178,175267,99263,52590,170959,135076,167112,184639,172369,124256,89972,67799,176074,167517,77914,57605,86365,93883,131091,87222,117076,150925,149379,138644,148493,84658,111618,108759,186203,147258,132983,149092,163845,117777,131584,123904,89801,173466,55690,100419,62951,118554,140673,75561,147306,111871,112884,121267,151519,105448,92048,99980,84003,110889,82478,139685,182374,119366,53788,90341,118348,137428,106982,98532,120825,58006,106941,129782,121513,79925,112089,146794,75033,149969,124852,154837,145678,137354,136660,63334,62893,163514,145934,119223,127479,136146,76001,84885,82812,51260,159572,130186,176954,85908,75831,123045,161211,81702,173043,126380,128205,181355,97931,146432,125731,132701,116095,135773,136417,80783,182580,143567,85908,139806,77269,105968,125660,98444,179503,60575,75685,85374,128642,182292,124702,127833,178866,183643,113306,84008,85758,63128,70174,170133,165978,149727,113389,111690,184830,91549,94629,167558,119189,96207,85339,111942,157003,117123,172747,157358,156655,166043,67768,171353,116971,97822,117203,88720,139447,179269,136254,174594,100429,73107,98344,163509,116204,95853,156411,72889,106691,144832,132297,170345,157383,150782,143987,129659,104826,181471,152547,85347,122828,107794,152566,91715,99222,70280,70030,102083,166163,182871,187545,182910,174530,115438,93964,180341,107323,119435,68341,95365,131093,100621,116521,136316,172039,70844,100964,128037,97081,92247,129914,94014,138864,169299,119097,68161,181108,87764,102543,139417,81802,102788,163179,71318,63683,189689,121610,150682,124550,148875,107117,109223,120899,101948,143169,167619,181795,186445,102205,52326,82992,145520,104820,69025,164976,178576,72415,112146,144830,51661,152910,114556,143455,173096,121172,56492,156422,131863,118096,149685,89765,177701,64738,92734,146877,62935,67178,115754,186470,100939,86172,184222,71543,174836,74407,130055,88707,162762,154821,57248,99902,165711,93866,141307,172011,68138,123246,124194,188696,91213,166650,52727,126469,138775,68901,118621,109263,150012,133850,81640,133214,186723,92100,64484,69024,171194,183282,100099,164435,172407,84781,186130,56782,137206,146950,174275,97705,188984,119238,87923,128573,132374,135164,165194,126060,89366,95172,95975,165573,180887,142720,113460,110434,146016,101073,62617,96028,186334,163473,89819,69388,134748,149915,104098,80160,124125,170226,53306,103933,85401,53812,60771,56398,171118,79806,150187,129455,116813,95734,76654,86289,176147,142351,186673,131521,50223,74308,155881,168303,182748,52374,86154,163612,64756,185257,78669,164520,92135,103195,161663,57039,54754,136531,120838,127927,164214,145498,129215,152429,89252,147447,74467,127410,91290,92812,170166,150823,95839,60175,153024,116858,122961,141471,76155,108169,139520,182631,177134,181703,61917,140648,176783,59741,156567,110309,111077,170333,183339,84167,184815,122556,174768,172309,117920,134882,77259,170019,176884,106709,168723,90228,89473,131911,140107,170403,52648,125471,106153,124785,101474,141359,57596,78489,112957,82377,82315,93253,189650,114858,62151,135159,126263,123064,181773,171794,156339,65483,145654,91609,53002,115699,149609,165254,50418,103531,184060,75961,174163,105255,51860,185218,189709,134665,91352,154623,113767,160469,99418,56215,55639,62504,151382,156574,60998,108509,85540,73915,148901,152602,58999,133740,113217,60209,145491,61393,133252,187234,145563,165810,125181,56809,69419,70689,55011,87955,153660,104494,184443,150778,88729,151902,51604,157316,125508,186157,169381,110195,81199,58459,173682,162983,94480,168710,150193,91823,173091,102692,156812,51468,114071,129971,104160,124995,180437,134644,130089,149318,125591,173047,61298,132993,72313,84885,126228,51199,54631,131810,138482,74081,112426,53552,142147,180324,149067,184408,59116,174786,71076,56837,134752,112887,73128,152765,140637,137973,126791,75125,101718,69654,105935,74607,151985,76892,87602,182317,158280,128153,142612,180163,68009,166183,132537,146308,63454,110519,66728,170638,129635,133587,126225,148776,142602,102413,68765,57522,149237,184844,131656,181026,101698,152560,142502,155432,108544,106530,124359,146970,182176,114435,134213,115580,124034,67894,107099,140263,104249,168821,153145,128960,127438,125968,104589,165321,86925,149797,137094,55395,153622,74050,68094,59244,118944,75293,166983,129444,181183,175254,54121,184387,73158,90961,182109,110610],\"xaxis\":\"x\",\"y\":[39,81,6,77,40,76,6,94,3,72,14,99,15,77,13,79,35,66,29,98,35,73,5,73,14,82,32,61,31,87,4,73,4,92,14,81,17,73,26,75,35,92,36,61,28,65,55,47,42,42,52,60,54,60,45,41,50,46,51,46,56,55,52,59,51,59,50,48,59,47,55,42,49,56,47,54,53,48,52,51,55,41,44,57,46,58,55,60,46,55,41,49,40,42,52,47,50,42,49,41,48,59,55,56,42,50,46,43,48,52,54,42,46,48,50,43,59,57,56,40,58,91,29,77,35,95,11,75,9,75,34,71,5,88,7,73,10,72,5,93,40,87,12,97,36,74,22,90,17,88,20,76,16,89,1,78,1,73,35,83,5,93,26,75,20,95,27,63,13,75,10,92,13,86,15,69,14,90,32,86,15,88,39,97,24,68,17,85,23,69,8,91,16,79,28,74,18,83,10,16,0,39,59,52,61,12,7,33,93,92,70,82,68,70,40,99,34,33,51,55,37,48,8,77,86,64,30,53,28,88,14,54,34,96,74,11,16,17,14,58,20,75,96,16,2,0,93,65,14,13,32,49,18,96,64,60,16,85,24,38,10,39,68,79,76,39,36,82,76,99,57,89,88,21,12,73,87,63,58,20,11,40,84,47,91,58,62,80,66,36,73,43,91,41,16,86,100,16,73,7,21,26,12,14,83,65,15,30,100,9,77,93,8,91,44,56,21,60,100,94,40,7,90,39,58,2,33,62,67,96,58,30,75,62,28,55,99,82,61,61,99,84,22,41,39,98,91,4,98,35,75,20,87,51,19,71,18,61,73,56,85,72,30,74,15,25,61,49,5,92,43,83,78,64,77,51,2,8,26,43,83,97,18,5,8,23,10,1,30,31,82,52,69,41,28,77,35,92,95,46,45,11,73,36,87,93,83,31,88,44,5,78,12,25,40,69,19,96,34,71,71,93,32,57,4,24,85,78,32,62,38,76,41,93,91,47,88,16,86,87,24,91,64,80,40,55,20,50,38,99,7,86,44,28,56,29,96,11,41,31,80,53,12,22,46,28,50,92,92,45,42,30,66,85,71,43,81,60,34,59,81,25,34,81,97,88,6,20,54,17,65,96,91,96,61,21,17,10,90,30,16,63,47,17,96,29,70,1,91,87,94,2,38,49,60,2,63,2,59,74,21,17,92,44,66,45,59,73,17,33,92,14,95,51,30,87,23,1,83,85,40,88,65,12,59,62,62,99,63,96,5,89,52,12,25,3,100,67,14,13,82,37,65,24,61,31,23,34,98,84,89,53,1,67,62,56,85,98,75,2,25,14,52,31,16,41,77,88,51,40,29,87,85,32,78,68,31,72,57,77,83,17,12,36,81,23,70,47,74,20,79,44,30,61,52,4,12,50,8,27,83,42,82,92,90,70,10,66,97,8,58,14,13,51,35,33,22,77,94,80,40,83,86,15,98,94,28,81,38,53,48,52,95,37,6,72,70,58,84,100,49,45,88,45,59,94,79,33,33,100,69,37,95,35,49,12,46,57,66,68,22,2,78,87,3,33,71,84,65,27,93,26,89,2,7,100,8,93,76,71,83,75,10,49,32,62,34,21,37,20,21,50,43,79,1,4,61,42,69,71,86,52,11,27,53,6,49,74,59,27,56,49,69,27,37,10,28,97,3,31,85,46,3,55,53,26,36,64,17,49,67,71,90,78,60,22,84,25,29,57,54,84,38,39,73,52,35,25,10,70,29,42,93,7,24,2,23,79,11,17,42,17,86,29,29,77,13,84,50,78,32,92,69,26,84,51,57,52,44,51,36,37,73,42,12,48,9,28,21,100,55,25,40,58,36,75,61,39,34,83,45,60,57,8,68,63,49,54,69,38,45,21,51,38,26,32,86,41,42,23,23,46,16,48,34,22,50,46,10,9,49,77,52,14,6,65,13,80,98,22,42,37,67,86,48,24,75,38,92,90,65,61,66,89,73,71,48,31,68,89,60,3,81,39,42,17,62,28,57,8,100,14,50,94,19,46,23,93,41,20,13,60,69,65,17,12,3,16,60,78,97,10,97,55,81,86,11,6,81,1,72,73,1,29,82,17,54,8,37,69,39,64,52,23,24,36,71,93,82,49,14,48,63,97,4,79,54,52,56,2,98,49,41,30,57,34,3,23,87,17,11,19,62,51,97,61,5,23,53,40,47,84,96,51,93,24,53,74,65,36,22,95,75,11,5,45,45,3,6,60,49,98,59,62,22,56,13,60,83,39,22,94,91,59,51,82,25,31,75,52,38,17,87,16,76,81,65,51,38,98,53,77,80,38,50,87,27,39,31,44,49,83,1,84,37,99,66,56,81,21,57,24,82,88,40,37,21,30,45,12,87,18,87,75,72,71,81,70,66,45,95,1,16,77,28,24,15,13,84,27,94,86,55,62,56,57,3,4,59,54,41,57,50,84,55,34,85,46,56,30,14,25,93,49,44,49,16,42,43,12,26,71,99,97,57,41,55,32,10,56,24,83,99,27,52,42,100,49,90,26,88,3,91,7,40,68,64,96,63,51,62,97,55,60,82,24,93,4,84,97,21,29,20,3,18,48,54,19,30,66,50,84,75,83,23,23,45,98,38,91,32,18,14,78,93,81,54,32,32,43,83,76,57,38,35,47,53,10,47,5,49,69,66,76,81,33,65,9,74,41,79,81,22,12,81,63,55,44,6,76,8,66,45,45,42,52,46,47,13,49,21,98,67,82,23,73,59,8,78,13,18,44,94,81,83,63,4,33,69,86,75,47,23,72,20,48,17,62,61,3,31,10,47,44,49,50,41,50,81,87,4,84,59,30,88,70,36,18,19,43,48,81,76,13,4,81,42,23,25,63,89,55,4,74,82,46,56,43,61,20,11,26,96,3,25,92,20,79,15,78,28,93,39,96,13,69,58,91,74,31,84,83,49,89,41,7,49,76,46,58,5,9,30,82,36,56,62,96,92,44,41,81,100,3,75,60,34,12,80,67,92,42,70,27,11,81,70,39,62,14,45,1,100,94,42,66,99,60,73,59,67,39,84,67,18,91,88,57,4,19,47,1,49,87,50,30,43,58,93,40,91,94,68,95,95,20,62,94,57,92,94,87,53,52,24,83,73,31,90,30,74,90,30,78,39,42,55,89,48,99,29,89,40,58,18,98,46,24,1,43,42,88,57,99,5,56,10,27,3,90,27,73,70,25,41,70,8,42,45,82,60,48,85,99,24,65,19,76,9,14,19,45,19,78,94,2,97,51,4,77,35,45,6,42,42,78,79,73,60,23,17,99,57,67,6,7,45,23,76,52,20,93,15,34,76,38,83,100,36,93,90,56,19,48,25,21,16,53,70,36,79,42,53,3,13,18,87,59,36,59,56,9,32,17,11,99,48,99,86,24,87,27,61,86,30,37,80,75,1,55,22,60,79,3,47,88,51,22,96,39,75,47,92,53,93,46,40,23,32,59,54,13,29,51,19,22,34,37,36,25,46,99,44,43,7,31,58,4,59,41,24,69,5,55,96,79,89,51,52,24,43,79,90,64,62,92,97,15,39,94,36,30,28,49,67,28,47,60,17,35,21,34,55,17,1,63,100,46,81,52,77,66,54,50,43,17,9,18,100,32,87,84,99,60,86,17,70,7,77,83,85,95,1,42,23,10,3,55,34,74,26,60,14,61,10,4,92,4,41,69,55,19,97,96,75,10,92,55,77,49,59,59,86,54,20,38,67,10,37,37,52,59,33,76,94,48,10,91,31,98,31,10,32,50,75,91,73,35,14,72,39,48,96,19,97,51,62,15,23,22,16,58,73,17,51,17,58,75,47,49,68,36,34,4,76,79,48,77,66,69,76,31,23,33,37,44,97,18,75,30,60,91,67,47,45,14,24,39,52,78,54,16,36,40,67,89,21,55,96,39,46,50,74,66,82,4,61,11,38,94,93,31,68,85,42,63,44,2,48,62,28,14,65,96,81,71,37,53,51,60,53,18,12,55,41,40,65,27,84,22,43,73,61,44,7,49,90,98,70,28,54,4,83,18,66,9,21,88,61,27,34,63,99,38,96,35,36,49,47,77,91,22,37,41,46,72,65,55,14,60,38,30,96,68,54,53,79,24,28,44,35,81,18,4,75,15,54,45,47,80,67,89,16,1,80,83,74,24,94,77,48,37,61,77,66,50,96,67,27,79,17,91,55,36,9,95,29,70,16,59,87,54,97,78,41,78,38,45,94,2,4,47,80,74,17,19,50,34,89,11,30,46,69,29,64,25,46,92,42,58,9,17,65,44,49,38,6,50,64,100,74,47,21,64,38,69,75,80,24,45,39,87,32,97,21,49,46,51,90,96,34,32,73,88,42,89,88,12,36,59,43,82,100,85,93,76,19,68,41,51,44,61,80,77,55,69,96,24,100,89,40,32,14,4,52],\"yaxis\":\"y\",\"type\":\"scattergl\"}],                        {\"template\":{\"data\":{\"histogram2dcontour\":[{\"type\":\"histogram2dcontour\",\"colorbar\":{\"outlinewidth\":0,\"ticks\":\"\"},\"colorscale\":[[0.0,\"#0d0887\"],[0.1111111111111111,\"#46039f\"],[0.2222222222222222,\"#7201a8\"],[0.3333333333333333,\"#9c179e\"],[0.4444444444444444,\"#bd3786\"],[0.5555555555555556,\"#d8576b\"],[0.6666666666666666,\"#ed7953\"],[0.7777777777777778,\"#fb9f3a\"],[0.8888888888888888,\"#fdca26\"],[1.0,\"#f0f921\"]]}],\"choropleth\":[{\"type\":\"choropleth\",\"colorbar\":{\"outlinewidth\":0,\"ticks\":\"\"}}],\"histogram2d\":[{\"type\":\"histogram2d\",\"colorbar\":{\"outlinewidth\":0,\"ticks\":\"\"},\"colorscale\":[[0.0,\"#0d0887\"],[0.1111111111111111,\"#46039f\"],[0.2222222222222222,\"#7201a8\"],[0.3333333333333333,\"#9c179e\"],[0.4444444444444444,\"#bd3786\"],[0.5555555555555556,\"#d8576b\"],[0.6666666666666666,\"#ed7953\"],[0.7777777777777778,\"#fb9f3a\"],[0.8888888888888888,\"#fdca26\"],[1.0,\"#f0f921\"]]}],\"heatmap\":[{\"type\":\"heatmap\",\"colorbar\":{\"outlinewidth\":0,\"ticks\":\"\"},\"colorscale\":[[0.0,\"#0d0887\"],[0.1111111111111111,\"#46039f\"],[0.2222222222222222,\"#7201a8\"],[0.3333333333333333,\"#9c179e\"],[0.4444444444444444,\"#bd3786\"],[0.5555555555555556,\"#d8576b\"],[0.6666666666666666,\"#ed7953\"],[0.7777777777777778,\"#fb9f3a\"],[0.8888888888888888,\"#fdca26\"],[1.0,\"#f0f921\"]]}],\"heatmapgl\":[{\"type\":\"heatmapgl\",\"colorbar\":{\"outlinewidth\":0,\"ticks\":\"\"},\"colorscale\":[[0.0,\"#0d0887\"],[0.1111111111111111,\"#46039f\"],[0.2222222222222222,\"#7201a8\"],[0.3333333333333333,\"#9c179e\"],[0.4444444444444444,\"#bd3786\"],[0.5555555555555556,\"#d8576b\"],[0.6666666666666666,\"#ed7953\"],[0.7777777777777778,\"#fb9f3a\"],[0.8888888888888888,\"#fdca26\"],[1.0,\"#f0f921\"]]}],\"contourcarpet\":[{\"type\":\"contourcarpet\",\"colorbar\":{\"outlinewidth\":0,\"ticks\":\"\"}}],\"contour\":[{\"type\":\"contour\",\"colorbar\":{\"outlinewidth\":0,\"ticks\":\"\"},\"colorscale\":[[0.0,\"#0d0887\"],[0.1111111111111111,\"#46039f\"],[0.2222222222222222,\"#7201a8\"],[0.3333333333333333,\"#9c179e\"],[0.4444444444444444,\"#bd3786\"],[0.5555555555555556,\"#d8576b\"],[0.6666666666666666,\"#ed7953\"],[0.7777777777777778,\"#fb9f3a\"],[0.8888888888888888,\"#fdca26\"],[1.0,\"#f0f921\"]]}],\"surface\":[{\"type\":\"surface\",\"colorbar\":{\"outlinewidth\":0,\"ticks\":\"\"},\"colorscale\":[[0.0,\"#0d0887\"],[0.1111111111111111,\"#46039f\"],[0.2222222222222222,\"#7201a8\"],[0.3333333333333333,\"#9c179e\"],[0.4444444444444444,\"#bd3786\"],[0.5555555555555556,\"#d8576b\"],[0.6666666666666666,\"#ed7953\"],[0.7777777777777778,\"#fb9f3a\"],[0.8888888888888888,\"#fdca26\"],[1.0,\"#f0f921\"]]}],\"mesh3d\":[{\"type\":\"mesh3d\",\"colorbar\":{\"outlinewidth\":0,\"ticks\":\"\"}}],\"scatter\":[{\"fillpattern\":{\"fillmode\":\"overlay\",\"size\":10,\"solidity\":0.2},\"type\":\"scatter\"}],\"parcoords\":[{\"type\":\"parcoords\",\"line\":{\"colorbar\":{\"outlinewidth\":0,\"ticks\":\"\"}}}],\"scatterpolargl\":[{\"type\":\"scatterpolargl\",\"marker\":{\"colorbar\":{\"outlinewidth\":0,\"ticks\":\"\"}}}],\"bar\":[{\"error_x\":{\"color\":\"#2a3f5f\"},\"error_y\":{\"color\":\"#2a3f5f\"},\"marker\":{\"line\":{\"color\":\"#E5ECF6\",\"width\":0.5},\"pattern\":{\"fillmode\":\"overlay\",\"size\":10,\"solidity\":0.2}},\"type\":\"bar\"}],\"scattergeo\":[{\"type\":\"scattergeo\",\"marker\":{\"colorbar\":{\"outlinewidth\":0,\"ticks\":\"\"}}}],\"scatterpolar\":[{\"type\":\"scatterpolar\",\"marker\":{\"colorbar\":{\"outlinewidth\":0,\"ticks\":\"\"}}}],\"histogram\":[{\"marker\":{\"pattern\":{\"fillmode\":\"overlay\",\"size\":10,\"solidity\":0.2}},\"type\":\"histogram\"}],\"scattergl\":[{\"type\":\"scattergl\",\"marker\":{\"colorbar\":{\"outlinewidth\":0,\"ticks\":\"\"}}}],\"scatter3d\":[{\"type\":\"scatter3d\",\"line\":{\"colorbar\":{\"outlinewidth\":0,\"ticks\":\"\"}},\"marker\":{\"colorbar\":{\"outlinewidth\":0,\"ticks\":\"\"}}}],\"scattermapbox\":[{\"type\":\"scattermapbox\",\"marker\":{\"colorbar\":{\"outlinewidth\":0,\"ticks\":\"\"}}}],\"scatterternary\":[{\"type\":\"scatterternary\",\"marker\":{\"colorbar\":{\"outlinewidth\":0,\"ticks\":\"\"}}}],\"scattercarpet\":[{\"type\":\"scattercarpet\",\"marker\":{\"colorbar\":{\"outlinewidth\":0,\"ticks\":\"\"}}}],\"carpet\":[{\"aaxis\":{\"endlinecolor\":\"#2a3f5f\",\"gridcolor\":\"white\",\"linecolor\":\"white\",\"minorgridcolor\":\"white\",\"startlinecolor\":\"#2a3f5f\"},\"baxis\":{\"endlinecolor\":\"#2a3f5f\",\"gridcolor\":\"white\",\"linecolor\":\"white\",\"minorgridcolor\":\"white\",\"startlinecolor\":\"#2a3f5f\"},\"type\":\"carpet\"}],\"table\":[{\"cells\":{\"fill\":{\"color\":\"#EBF0F8\"},\"line\":{\"color\":\"white\"}},\"header\":{\"fill\":{\"color\":\"#C8D4E3\"},\"line\":{\"color\":\"white\"}},\"type\":\"table\"}],\"barpolar\":[{\"marker\":{\"line\":{\"color\":\"#E5ECF6\",\"width\":0.5},\"pattern\":{\"fillmode\":\"overlay\",\"size\":10,\"solidity\":0.2}},\"type\":\"barpolar\"}],\"pie\":[{\"automargin\":true,\"type\":\"pie\"}]},\"layout\":{\"autotypenumbers\":\"strict\",\"colorway\":[\"#636efa\",\"#EF553B\",\"#00cc96\",\"#ab63fa\",\"#FFA15A\",\"#19d3f3\",\"#FF6692\",\"#B6E880\",\"#FF97FF\",\"#FECB52\"],\"font\":{\"color\":\"#2a3f5f\"},\"hovermode\":\"closest\",\"hoverlabel\":{\"align\":\"left\"},\"paper_bgcolor\":\"white\",\"plot_bgcolor\":\"#E5ECF6\",\"polar\":{\"bgcolor\":\"#E5ECF6\",\"angularaxis\":{\"gridcolor\":\"white\",\"linecolor\":\"white\",\"ticks\":\"\"},\"radialaxis\":{\"gridcolor\":\"white\",\"linecolor\":\"white\",\"ticks\":\"\"}},\"ternary\":{\"bgcolor\":\"#E5ECF6\",\"aaxis\":{\"gridcolor\":\"white\",\"linecolor\":\"white\",\"ticks\":\"\"},\"baxis\":{\"gridcolor\":\"white\",\"linecolor\":\"white\",\"ticks\":\"\"},\"caxis\":{\"gridcolor\":\"white\",\"linecolor\":\"white\",\"ticks\":\"\"}},\"coloraxis\":{\"colorbar\":{\"outlinewidth\":0,\"ticks\":\"\"}},\"colorscale\":{\"sequential\":[[0.0,\"#0d0887\"],[0.1111111111111111,\"#46039f\"],[0.2222222222222222,\"#7201a8\"],[0.3333333333333333,\"#9c179e\"],[0.4444444444444444,\"#bd3786\"],[0.5555555555555556,\"#d8576b\"],[0.6666666666666666,\"#ed7953\"],[0.7777777777777778,\"#fb9f3a\"],[0.8888888888888888,\"#fdca26\"],[1.0,\"#f0f921\"]],\"sequentialminus\":[[0.0,\"#0d0887\"],[0.1111111111111111,\"#46039f\"],[0.2222222222222222,\"#7201a8\"],[0.3333333333333333,\"#9c179e\"],[0.4444444444444444,\"#bd3786\"],[0.5555555555555556,\"#d8576b\"],[0.6666666666666666,\"#ed7953\"],[0.7777777777777778,\"#fb9f3a\"],[0.8888888888888888,\"#fdca26\"],[1.0,\"#f0f921\"]],\"diverging\":[[0,\"#8e0152\"],[0.1,\"#c51b7d\"],[0.2,\"#de77ae\"],[0.3,\"#f1b6da\"],[0.4,\"#fde0ef\"],[0.5,\"#f7f7f7\"],[0.6,\"#e6f5d0\"],[0.7,\"#b8e186\"],[0.8,\"#7fbc41\"],[0.9,\"#4d9221\"],[1,\"#276419\"]]},\"xaxis\":{\"gridcolor\":\"white\",\"linecolor\":\"white\",\"ticks\":\"\",\"title\":{\"standoff\":15},\"zerolinecolor\":\"white\",\"automargin\":true,\"zerolinewidth\":2},\"yaxis\":{\"gridcolor\":\"white\",\"linecolor\":\"white\",\"ticks\":\"\",\"title\":{\"standoff\":15},\"zerolinecolor\":\"white\",\"automargin\":true,\"zerolinewidth\":2},\"scene\":{\"xaxis\":{\"backgroundcolor\":\"#E5ECF6\",\"gridcolor\":\"white\",\"linecolor\":\"white\",\"showbackground\":true,\"ticks\":\"\",\"zerolinecolor\":\"white\",\"gridwidth\":2},\"yaxis\":{\"backgroundcolor\":\"#E5ECF6\",\"gridcolor\":\"white\",\"linecolor\":\"white\",\"showbackground\":true,\"ticks\":\"\",\"zerolinecolor\":\"white\",\"gridwidth\":2},\"zaxis\":{\"backgroundcolor\":\"#E5ECF6\",\"gridcolor\":\"white\",\"linecolor\":\"white\",\"showbackground\":true,\"ticks\":\"\",\"zerolinecolor\":\"white\",\"gridwidth\":2}},\"shapedefaults\":{\"line\":{\"color\":\"#2a3f5f\"}},\"annotationdefaults\":{\"arrowcolor\":\"#2a3f5f\",\"arrowhead\":0,\"arrowwidth\":1},\"geo\":{\"bgcolor\":\"white\",\"landcolor\":\"#E5ECF6\",\"subunitcolor\":\"white\",\"showland\":true,\"showlakes\":true,\"lakecolor\":\"white\"},\"title\":{\"x\":0.05},\"mapbox\":{\"style\":\"light\"}}},\"xaxis\":{\"anchor\":\"y\",\"domain\":[0.0,1.0],\"title\":{\"text\":\"Annual Income ($)\"}},\"yaxis\":{\"anchor\":\"x\",\"domain\":[0.0,1.0],\"title\":{\"text\":\"Spending Score (1-100)\"}},\"legend\":{\"tracegroupgap\":0},\"margin\":{\"t\":60}},                        {\"responsive\": true}                    ).then(function(){\n",
              "                            \n",
              "var gd = document.getElementById('07333b97-322a-4b0b-9c96-d9da86a4a834');\n",
              "var x = new MutationObserver(function (mutations, observer) {{\n",
              "        var display = window.getComputedStyle(gd).display;\n",
              "        if (!display || display === 'none') {{\n",
              "            console.log([gd, 'removed!']);\n",
              "            Plotly.purge(gd);\n",
              "            observer.disconnect();\n",
              "        }}\n",
              "}});\n",
              "\n",
              "// Listen for the removal of the full notebook cells\n",
              "var notebookContainer = gd.closest('#notebook-container');\n",
              "if (notebookContainer) {{\n",
              "    x.observe(notebookContainer, {childList: true});\n",
              "}}\n",
              "\n",
              "// Listen for the clearing of the current output cell\n",
              "var outputEl = gd.closest('.output');\n",
              "if (outputEl) {{\n",
              "    x.observe(outputEl, {childList: true});\n",
              "}}\n",
              "\n",
              "                        })                };                            </script>        </div>\n",
              "</body>\n",
              "</html>"
            ]
          },
          "metadata": {}
        }
      ]
    },
    {
      "cell_type": "code",
      "source": [
        "new_df = data.groupby(['Profession','Annual Income ($)'])\n",
        "new_df.first()"
      ],
      "metadata": {
        "colab": {
          "base_uri": "https://localhost:8080/",
          "height": 455
        },
        "id": "G4lNB8L8G4OZ",
        "outputId": "d41dc331-f361-4801-8897-8cc68701910f"
      },
      "execution_count": null,
      "outputs": [
        {
          "output_type": "execute_result",
          "data": {
            "text/plain": [
              "                              CustomerID  Gender  Age  Spending Score (1-100)  \\\n",
              "Profession Annual Income ($)                                                    \n",
              "Artist     0                         170    Male   32                      63   \n",
              "           2000                       97  Female   47                      47   \n",
              "           3000                      253  Female   78                      14   \n",
              "           4000                      128    Male   40                      95   \n",
              "           7000                      248  Female   32                      16   \n",
              "...                                  ...     ...  ...                     ...   \n",
              "Marketing  181026                   1956  Female   11                      39   \n",
              "           181183                   1993    Male   94                      24   \n",
              "           182937                    319    Male   66                      44   \n",
              "           184324                    358    Male   20                      51   \n",
              "           186069                    716  Female   60                      49   \n",
              "\n",
              "                              Work Experience  Family Size  \n",
              "Profession Annual Income ($)                                \n",
              "Artist     0                                2            2  \n",
              "           2000                             0            1  \n",
              "           3000                             5            4  \n",
              "           4000                             0            2  \n",
              "           7000                             1            2  \n",
              "...                                       ...          ...  \n",
              "Marketing  181026                           6            2  \n",
              "           181183                           9            3  \n",
              "           182937                           8            1  \n",
              "           184324                          13            5  \n",
              "           186069                           1            2  \n",
              "\n",
              "[1901 rows x 6 columns]"
            ],
            "text/html": [
              "\n",
              "  <div id=\"df-472da429-d322-4b45-a03d-336e74eeafd8\">\n",
              "    <div class=\"colab-df-container\">\n",
              "      <div>\n",
              "<style scoped>\n",
              "    .dataframe tbody tr th:only-of-type {\n",
              "        vertical-align: middle;\n",
              "    }\n",
              "\n",
              "    .dataframe tbody tr th {\n",
              "        vertical-align: top;\n",
              "    }\n",
              "\n",
              "    .dataframe thead th {\n",
              "        text-align: right;\n",
              "    }\n",
              "</style>\n",
              "<table border=\"1\" class=\"dataframe\">\n",
              "  <thead>\n",
              "    <tr style=\"text-align: right;\">\n",
              "      <th></th>\n",
              "      <th></th>\n",
              "      <th>CustomerID</th>\n",
              "      <th>Gender</th>\n",
              "      <th>Age</th>\n",
              "      <th>Spending Score (1-100)</th>\n",
              "      <th>Work Experience</th>\n",
              "      <th>Family Size</th>\n",
              "    </tr>\n",
              "    <tr>\n",
              "      <th>Profession</th>\n",
              "      <th>Annual Income ($)</th>\n",
              "      <th></th>\n",
              "      <th></th>\n",
              "      <th></th>\n",
              "      <th></th>\n",
              "      <th></th>\n",
              "      <th></th>\n",
              "    </tr>\n",
              "  </thead>\n",
              "  <tbody>\n",
              "    <tr>\n",
              "      <th rowspan=\"5\" valign=\"top\">Artist</th>\n",
              "      <th>0</th>\n",
              "      <td>170</td>\n",
              "      <td>Male</td>\n",
              "      <td>32</td>\n",
              "      <td>63</td>\n",
              "      <td>2</td>\n",
              "      <td>2</td>\n",
              "    </tr>\n",
              "    <tr>\n",
              "      <th>2000</th>\n",
              "      <td>97</td>\n",
              "      <td>Female</td>\n",
              "      <td>47</td>\n",
              "      <td>47</td>\n",
              "      <td>0</td>\n",
              "      <td>1</td>\n",
              "    </tr>\n",
              "    <tr>\n",
              "      <th>3000</th>\n",
              "      <td>253</td>\n",
              "      <td>Female</td>\n",
              "      <td>78</td>\n",
              "      <td>14</td>\n",
              "      <td>5</td>\n",
              "      <td>4</td>\n",
              "    </tr>\n",
              "    <tr>\n",
              "      <th>4000</th>\n",
              "      <td>128</td>\n",
              "      <td>Male</td>\n",
              "      <td>40</td>\n",
              "      <td>95</td>\n",
              "      <td>0</td>\n",
              "      <td>2</td>\n",
              "    </tr>\n",
              "    <tr>\n",
              "      <th>7000</th>\n",
              "      <td>248</td>\n",
              "      <td>Female</td>\n",
              "      <td>32</td>\n",
              "      <td>16</td>\n",
              "      <td>1</td>\n",
              "      <td>2</td>\n",
              "    </tr>\n",
              "    <tr>\n",
              "      <th>...</th>\n",
              "      <th>...</th>\n",
              "      <td>...</td>\n",
              "      <td>...</td>\n",
              "      <td>...</td>\n",
              "      <td>...</td>\n",
              "      <td>...</td>\n",
              "      <td>...</td>\n",
              "    </tr>\n",
              "    <tr>\n",
              "      <th rowspan=\"5\" valign=\"top\">Marketing</th>\n",
              "      <th>181026</th>\n",
              "      <td>1956</td>\n",
              "      <td>Female</td>\n",
              "      <td>11</td>\n",
              "      <td>39</td>\n",
              "      <td>6</td>\n",
              "      <td>2</td>\n",
              "    </tr>\n",
              "    <tr>\n",
              "      <th>181183</th>\n",
              "      <td>1993</td>\n",
              "      <td>Male</td>\n",
              "      <td>94</td>\n",
              "      <td>24</td>\n",
              "      <td>9</td>\n",
              "      <td>3</td>\n",
              "    </tr>\n",
              "    <tr>\n",
              "      <th>182937</th>\n",
              "      <td>319</td>\n",
              "      <td>Male</td>\n",
              "      <td>66</td>\n",
              "      <td>44</td>\n",
              "      <td>8</td>\n",
              "      <td>1</td>\n",
              "    </tr>\n",
              "    <tr>\n",
              "      <th>184324</th>\n",
              "      <td>358</td>\n",
              "      <td>Male</td>\n",
              "      <td>20</td>\n",
              "      <td>51</td>\n",
              "      <td>13</td>\n",
              "      <td>5</td>\n",
              "    </tr>\n",
              "    <tr>\n",
              "      <th>186069</th>\n",
              "      <td>716</td>\n",
              "      <td>Female</td>\n",
              "      <td>60</td>\n",
              "      <td>49</td>\n",
              "      <td>1</td>\n",
              "      <td>2</td>\n",
              "    </tr>\n",
              "  </tbody>\n",
              "</table>\n",
              "<p>1901 rows × 6 columns</p>\n",
              "</div>\n",
              "      <button class=\"colab-df-convert\" onclick=\"convertToInteractive('df-472da429-d322-4b45-a03d-336e74eeafd8')\"\n",
              "              title=\"Convert this dataframe to an interactive table.\"\n",
              "              style=\"display:none;\">\n",
              "        \n",
              "  <svg xmlns=\"http://www.w3.org/2000/svg\" height=\"24px\"viewBox=\"0 0 24 24\"\n",
              "       width=\"24px\">\n",
              "    <path d=\"M0 0h24v24H0V0z\" fill=\"none\"/>\n",
              "    <path d=\"M18.56 5.44l.94 2.06.94-2.06 2.06-.94-2.06-.94-.94-2.06-.94 2.06-2.06.94zm-11 1L8.5 8.5l.94-2.06 2.06-.94-2.06-.94L8.5 2.5l-.94 2.06-2.06.94zm10 10l.94 2.06.94-2.06 2.06-.94-2.06-.94-.94-2.06-.94 2.06-2.06.94z\"/><path d=\"M17.41 7.96l-1.37-1.37c-.4-.4-.92-.59-1.43-.59-.52 0-1.04.2-1.43.59L10.3 9.45l-7.72 7.72c-.78.78-.78 2.05 0 2.83L4 21.41c.39.39.9.59 1.41.59.51 0 1.02-.2 1.41-.59l7.78-7.78 2.81-2.81c.8-.78.8-2.07 0-2.86zM5.41 20L4 18.59l7.72-7.72 1.47 1.35L5.41 20z\"/>\n",
              "  </svg>\n",
              "      </button>\n",
              "      \n",
              "  <style>\n",
              "    .colab-df-container {\n",
              "      display:flex;\n",
              "      flex-wrap:wrap;\n",
              "      gap: 12px;\n",
              "    }\n",
              "\n",
              "    .colab-df-convert {\n",
              "      background-color: #E8F0FE;\n",
              "      border: none;\n",
              "      border-radius: 50%;\n",
              "      cursor: pointer;\n",
              "      display: none;\n",
              "      fill: #1967D2;\n",
              "      height: 32px;\n",
              "      padding: 0 0 0 0;\n",
              "      width: 32px;\n",
              "    }\n",
              "\n",
              "    .colab-df-convert:hover {\n",
              "      background-color: #E2EBFA;\n",
              "      box-shadow: 0px 1px 2px rgba(60, 64, 67, 0.3), 0px 1px 3px 1px rgba(60, 64, 67, 0.15);\n",
              "      fill: #174EA6;\n",
              "    }\n",
              "\n",
              "    [theme=dark] .colab-df-convert {\n",
              "      background-color: #3B4455;\n",
              "      fill: #D2E3FC;\n",
              "    }\n",
              "\n",
              "    [theme=dark] .colab-df-convert:hover {\n",
              "      background-color: #434B5C;\n",
              "      box-shadow: 0px 1px 3px 1px rgba(0, 0, 0, 0.15);\n",
              "      filter: drop-shadow(0px 1px 2px rgba(0, 0, 0, 0.3));\n",
              "      fill: #FFFFFF;\n",
              "    }\n",
              "  </style>\n",
              "\n",
              "      <script>\n",
              "        const buttonEl =\n",
              "          document.querySelector('#df-472da429-d322-4b45-a03d-336e74eeafd8 button.colab-df-convert');\n",
              "        buttonEl.style.display =\n",
              "          google.colab.kernel.accessAllowed ? 'block' : 'none';\n",
              "\n",
              "        async function convertToInteractive(key) {\n",
              "          const element = document.querySelector('#df-472da429-d322-4b45-a03d-336e74eeafd8');\n",
              "          const dataTable =\n",
              "            await google.colab.kernel.invokeFunction('convertToInteractive',\n",
              "                                                     [key], {});\n",
              "          if (!dataTable) return;\n",
              "\n",
              "          const docLinkHtml = 'Like what you see? Visit the ' +\n",
              "            '<a target=\"_blank\" href=https://colab.research.google.com/notebooks/data_table.ipynb>data table notebook</a>'\n",
              "            + ' to learn more about interactive tables.';\n",
              "          element.innerHTML = '';\n",
              "          dataTable['output_type'] = 'display_data';\n",
              "          await google.colab.output.renderOutput(dataTable, element);\n",
              "          const docLink = document.createElement('div');\n",
              "          docLink.innerHTML = docLinkHtml;\n",
              "          element.appendChild(docLink);\n",
              "        }\n",
              "      </script>\n",
              "    </div>\n",
              "  </div>\n",
              "  "
            ]
          },
          "metadata": {},
          "execution_count": 19
        }
      ]
    },
    {
      "cell_type": "markdown",
      "source": [
        "### **Splitting the Dataset in to Traning and Testing DataSets**"
      ],
      "metadata": {
        "id": "AewDTE78G2JH"
      }
    },
    {
      "cell_type": "code",
      "source": [
        "Values=['Annual Income ($)','Age']\n",
        "x=data[Values]\n",
        "y=data['Spending Score (1-100)']\n"
      ],
      "metadata": {
        "id": "QlLbLbubEulc"
      },
      "execution_count": null,
      "outputs": []
    },
    {
      "cell_type": "code",
      "source": [
        "from sklearn.model_selection import train_test_split\n",
        "\n",
        "#x = np.array([data[['Annual Income ($)','Age']]]).reshape((-1, 1))\n",
        "#y = np.array([data[['Spending Score (1-100)']]]).reshape((-1, 1))\n",
        "\n",
        "x_train, x_test, y_train, y_test = train_test_split(x, y, test_size=0.25)"
      ],
      "metadata": {
        "id": "Ecq21VM3h3S3"
      },
      "execution_count": null,
      "outputs": []
    },
    {
      "cell_type": "markdown",
      "source": [
        "## **Model Fitting**"
      ],
      "metadata": {
        "id": "Aihd69q2-h_G"
      }
    },
    {
      "cell_type": "code",
      "source": [
        "from sklearn.linear_model import LinearRegression\n",
        "L = LinearRegression()\n",
        "model=L.fit(x_train, y_train)"
      ],
      "metadata": {
        "id": "sW_FqcBekOxA"
      },
      "execution_count": null,
      "outputs": []
    },
    {
      "cell_type": "code",
      "source": [
        "y_pred = L.predict(x_test)\n",
        "y_pred"
      ],
      "metadata": {
        "colab": {
          "base_uri": "https://localhost:8080/"
        },
        "id": "0uypzMfd-9kd",
        "outputId": "aee7b044-e304-4fd5-e7d4-f9a70903bed4"
      },
      "execution_count": null,
      "outputs": [
        {
          "output_type": "execute_result",
          "data": {
            "text/plain": [
              "array([49.2648318 , 51.13909097, 47.67965673, 51.61908568, 51.96441269,\n",
              "       49.61281525, 49.23901731, 48.51424778, 54.42191446, 52.83993925,\n",
              "       51.60590585, 48.61485461, 50.76703558, 48.90818874, 47.79663331,\n",
              "       53.11965711, 47.31528973, 53.42762344, 53.36931204, 50.86624725,\n",
              "       48.51262183, 49.77707372, 53.47811288, 49.16161963, 49.43116997,\n",
              "       52.61493397, 49.77703048, 50.40351441, 50.65937399, 52.60601713,\n",
              "       52.92626864, 51.40081967, 48.61775112, 52.92726291, 48.54914792,\n",
              "       49.96434869, 51.29092477, 51.62261274, 52.69144114, 49.50562388,\n",
              "       51.76749619, 53.04230573, 52.55383095, 52.9973079 , 49.61956398,\n",
              "       49.67486833, 50.77029743, 51.61678545, 50.24780534, 50.95212048,\n",
              "       49.99337776, 53.00620727, 51.26243671, 52.3696617 , 50.85353507,\n",
              "       50.0159048 , 49.63189992, 52.01520597, 51.36975892, 48.71962002,\n",
              "       51.29116614, 50.04626609, 52.83511263, 53.06073117, 51.29906722,\n",
              "       49.95366878, 51.62185216, 52.21699233, 51.05070014, 51.91324001,\n",
              "       48.73432026, 48.15421124, 50.20762805, 49.09623584, 54.24202872,\n",
              "       51.22629932, 53.37498239, 50.62634101, 50.27569856, 48.72725588,\n",
              "       49.17668907, 53.49604102, 51.73529094, 49.21860923, 50.57443143,\n",
              "       51.01745512, 49.66854117, 49.01959412, 52.82897124, 52.24524305,\n",
              "       48.01285679, 49.57744407, 51.21775775, 49.15955083, 52.39185557,\n",
              "       53.21415392, 51.98555031, 52.26728701, 52.69805291, 53.79975009,\n",
              "       48.85123808, 48.59582215, 49.35602128, 49.42650254, 49.86861188,\n",
              "       48.57594611, 54.4296477 , 52.45392579, 50.98431838, 53.13663438,\n",
              "       52.42587433, 49.72917121, 51.27315502, 53.35287579, 47.93943432,\n",
              "       50.11189334, 50.09327283, 48.71678291, 48.97684931, 49.02172731,\n",
              "       50.35391564, 49.8610923 , 49.29409361, 50.35213672, 49.91641637,\n",
              "       48.85178807, 51.68217037, 47.38992125, 50.64193514, 51.73571089,\n",
              "       51.85127437, 52.09461078, 49.73527994, 53.06568304, 50.70380738,\n",
              "       52.21096481, 48.25269062, 52.33617708, 48.91230506, 50.93243313,\n",
              "       52.35012377, 52.04914143, 49.11457271, 53.43933844, 52.798686  ,\n",
              "       52.03744388, 52.04078677, 50.42442923, 47.43529801, 49.57038114,\n",
              "       51.8557022 , 49.19335691, 49.10911634, 51.33343112, 49.04452934,\n",
              "       50.56833425, 50.19437583, 50.40509761, 50.76862792, 50.29202685,\n",
              "       48.98333534, 49.57455556, 47.78161306, 49.73859431, 49.02669842,\n",
              "       51.18160983, 48.38330448, 51.95871672, 50.57872311, 51.9780679 ,\n",
              "       52.25272771, 51.82609284, 47.27414138, 47.82068908, 51.56320024,\n",
              "       50.55060774, 53.59399765, 52.15926712, 48.17170261, 49.07316988,\n",
              "       50.94909872, 48.33410563, 52.22219981, 53.1584735 , 50.67967475,\n",
              "       50.40491822, 49.52122182, 47.00277161, 50.89681677, 51.23659514,\n",
              "       53.106767  , 50.14072321, 50.94999691, 49.97264232, 50.79703606,\n",
              "       48.48163428, 50.98535879, 52.06105182, 49.37973095, 50.08260495,\n",
              "       50.19216095, 48.97275061, 53.84070112, 51.18359182, 51.69674122,\n",
              "       51.02524201, 51.18734103, 48.15829984, 51.5465244 , 51.55279216,\n",
              "       50.82829188, 50.30402775, 48.85183421, 48.5223196 , 50.78923075,\n",
              "       48.48587665, 52.88601993, 52.06269974, 52.85261571, 51.82813649,\n",
              "       51.02323214, 53.49317845, 48.25021068, 49.26372205, 50.6047793 ,\n",
              "       47.8870542 , 51.43233798, 50.92798785, 50.65564095, 48.77449996,\n",
              "       50.5037567 , 51.89552263, 48.3775736 , 51.88092648, 53.43735725,\n",
              "       52.65925318, 47.80098186, 49.89571342, 50.96026599, 52.53156194,\n",
              "       53.39421009, 49.2951345 , 48.66153877, 48.66094952, 50.05744775,\n",
              "       51.44874668, 51.76447233, 50.53581635, 48.45676507, 47.39113015,\n",
              "       49.83903088, 47.47787724, 48.28310896, 48.19918007, 53.91857767,\n",
              "       48.7790402 , 50.69787117, 52.42623918, 53.92126149, 49.77798168,\n",
              "       47.69334588, 48.49888895, 49.56820085, 50.8397226 , 49.50633241,\n",
              "       51.47694309, 51.8181698 , 51.84125756, 50.96001516, 52.56137599,\n",
              "       46.90495785, 50.9985218 , 52.20350899, 51.87139097, 49.89600926,\n",
              "       49.19486465, 50.69288632, 50.90963223, 50.11976337, 48.13354353,\n",
              "       49.08909873, 49.43451222, 51.24856801, 51.07295106, 48.2795798 ,\n",
              "       50.00469171, 49.68390993, 49.66717339, 50.78027277, 50.18893353,\n",
              "       48.13910866, 50.46237627, 51.14130569, 51.05988236, 53.07699732,\n",
              "       54.04526277, 52.40461195, 47.74387727, 52.34435314, 49.1534703 ,\n",
              "       50.3470937 , 50.7222527 , 51.79473292, 48.35309147, 50.31062674,\n",
              "       54.32028678, 50.03157273, 49.94690662, 50.98420177, 53.81474552,\n",
              "       49.13555865, 51.61103148, 50.4738499 , 53.95058656, 47.79660865,\n",
              "       49.95482418, 50.08185044, 50.37057257, 48.34831818, 51.10994496,\n",
              "       49.89900459, 49.36335652, 47.32805282, 50.62719467, 49.43649534,\n",
              "       49.5032056 , 49.09596004, 50.55756019, 49.23800606, 51.08853058,\n",
              "       50.70874422, 52.69515543, 49.93842736, 48.45741421, 51.36563412,\n",
              "       51.97999367, 48.81050007, 51.71703253, 49.59098542, 50.9455462 ,\n",
              "       48.20090372, 46.82738271, 49.21880462, 49.36522288, 51.18496647,\n",
              "       51.03975856, 48.21866515, 50.40388629, 48.17362424, 52.29511745,\n",
              "       48.98092029, 49.63122693, 50.74660989, 50.9145854 , 51.03407763,\n",
              "       53.26787926, 51.32826575, 50.58514142, 50.27602947, 50.47390501,\n",
              "       50.65162904, 49.1499072 , 48.99112384, 53.41309023, 49.23561979,\n",
              "       49.41362478, 51.06286921, 49.40843347, 50.06761946, 52.79771735,\n",
              "       49.1617923 , 49.72033639, 49.43894069, 52.91762777, 48.12199717,\n",
              "       51.77793967, 50.36000465, 50.16116717, 49.05921309, 52.92575324,\n",
              "       48.69969082, 49.13793386, 51.39092216, 51.1716782 , 49.71953816,\n",
              "       49.76077218, 52.02442164, 53.30499026, 50.38233097, 49.35665554,\n",
              "       52.0244761 , 49.54111627, 51.46864016, 52.82364684, 50.46120551,\n",
              "       47.67780798, 53.31108089, 51.8738078 , 48.62079308, 51.73331726,\n",
              "       50.53231394, 52.62360014, 47.30506727, 52.17744512, 49.82369928,\n",
              "       49.09252874, 49.54201672, 53.20663419, 49.65832767, 49.2820325 ,\n",
              "       48.40080852, 49.51140089, 51.03812154, 48.8265806 , 52.81836535,\n",
              "       49.31129559, 47.67283849, 49.32876038, 50.42327512, 52.13956215,\n",
              "       50.5537554 , 50.06654333, 51.46492699, 48.50832758, 49.53432559,\n",
              "       51.24439052, 53.33351516, 52.15808706, 48.34346562, 53.43864607,\n",
              "       49.58972319, 51.99307021, 51.03044197, 47.51046464, 50.68125699,\n",
              "       50.18954727, 52.68308407, 52.03785374, 49.03627974, 50.18436606,\n",
              "       48.49554703, 48.377982  , 48.28275469, 50.23548766, 49.08100001,\n",
              "       51.37164612, 51.33748336, 50.93272832, 50.73127539, 50.10760951,\n",
              "       48.56182196, 48.87601217, 50.66383689, 51.21499417, 52.3876515 ,\n",
              "       50.54406627, 51.20444435, 48.90001939, 49.96479056, 47.84707854,\n",
              "       50.18971624, 51.55541416, 48.05117061, 52.66756459, 49.82935153,\n",
              "       50.20082647, 50.69514186, 49.56936844, 50.96404307, 51.35386836,\n",
              "       52.04741906, 47.18097759, 48.95104233, 48.12725079, 53.58643242,\n",
              "       52.27487577, 50.09844749, 50.04731628, 49.30246781, 48.44289685,\n",
              "       51.31403348, 52.1520951 , 50.48555019, 53.03903379, 49.26531277,\n",
              "       50.07139751, 53.77182035, 50.21051656, 51.48488021, 47.97356088,\n",
              "       50.9934732 , 47.98586336])"
            ]
          },
          "metadata": {},
          "execution_count": 23
        }
      ]
    },
    {
      "cell_type": "markdown",
      "source": [
        "**Calculating R^2 and Mean Squared Error**"
      ],
      "metadata": {
        "id": "EgSDJunT-ud3"
      }
    },
    {
      "cell_type": "code",
      "source": [
        "from sklearn.metrics import r2_score, mean_squared_error\n",
        "print('R2 score',r2_score(y_test, y_pred))\n",
        "print('Mean squared error', np.sqrt(mean_squared_error(y_test, y_pred)))"
      ],
      "metadata": {
        "colab": {
          "base_uri": "https://localhost:8080/"
        },
        "id": "oNHFyvWd_lfO",
        "outputId": "af192c5b-4900-4c6a-967b-d6b1adbd3b79"
      },
      "execution_count": null,
      "outputs": [
        {
          "output_type": "stream",
          "name": "stdout",
          "text": [
            "R2 score -0.008993054695426661\n",
            "Mean squared error 28.624303049795785\n"
          ]
        }
      ]
    },
    {
      "cell_type": "code",
      "source": [],
      "metadata": {
        "id": "kfgqfxLM2PRQ"
      },
      "execution_count": null,
      "outputs": []
    },
    {
      "cell_type": "markdown",
      "source": [
        "### **Ridge Regression**"
      ],
      "metadata": {
        "id": "jf-0bZpTAA8l"
      }
    },
    {
      "cell_type": "code",
      "source": [
        "from sklearn.linear_model import Ridge\n",
        "#R = Ridge(alpha=0.0001)\n",
        "R = Ridge(alpha=0.1)"
      ],
      "metadata": {
        "id": "ocSJ_fdmAFa2"
      },
      "execution_count": null,
      "outputs": []
    },
    {
      "cell_type": "code",
      "source": [
        "R.fit(x_train, y_train)"
      ],
      "metadata": {
        "colab": {
          "base_uri": "https://localhost:8080/",
          "height": 74
        },
        "id": "WQzsBJ68AhSo",
        "outputId": "f245ea6e-1b93-4077-cc24-a35e53914236"
      },
      "execution_count": null,
      "outputs": [
        {
          "output_type": "execute_result",
          "data": {
            "text/plain": [
              "Ridge(alpha=0.1)"
            ],
            "text/html": [
              "<style>#sk-container-id-1 {color: black;background-color: white;}#sk-container-id-1 pre{padding: 0;}#sk-container-id-1 div.sk-toggleable {background-color: white;}#sk-container-id-1 label.sk-toggleable__label {cursor: pointer;display: block;width: 100%;margin-bottom: 0;padding: 0.3em;box-sizing: border-box;text-align: center;}#sk-container-id-1 label.sk-toggleable__label-arrow:before {content: \"▸\";float: left;margin-right: 0.25em;color: #696969;}#sk-container-id-1 label.sk-toggleable__label-arrow:hover:before {color: black;}#sk-container-id-1 div.sk-estimator:hover label.sk-toggleable__label-arrow:before {color: black;}#sk-container-id-1 div.sk-toggleable__content {max-height: 0;max-width: 0;overflow: hidden;text-align: left;background-color: #f0f8ff;}#sk-container-id-1 div.sk-toggleable__content pre {margin: 0.2em;color: black;border-radius: 0.25em;background-color: #f0f8ff;}#sk-container-id-1 input.sk-toggleable__control:checked~div.sk-toggleable__content {max-height: 200px;max-width: 100%;overflow: auto;}#sk-container-id-1 input.sk-toggleable__control:checked~label.sk-toggleable__label-arrow:before {content: \"▾\";}#sk-container-id-1 div.sk-estimator input.sk-toggleable__control:checked~label.sk-toggleable__label {background-color: #d4ebff;}#sk-container-id-1 div.sk-label input.sk-toggleable__control:checked~label.sk-toggleable__label {background-color: #d4ebff;}#sk-container-id-1 input.sk-hidden--visually {border: 0;clip: rect(1px 1px 1px 1px);clip: rect(1px, 1px, 1px, 1px);height: 1px;margin: -1px;overflow: hidden;padding: 0;position: absolute;width: 1px;}#sk-container-id-1 div.sk-estimator {font-family: monospace;background-color: #f0f8ff;border: 1px dotted black;border-radius: 0.25em;box-sizing: border-box;margin-bottom: 0.5em;}#sk-container-id-1 div.sk-estimator:hover {background-color: #d4ebff;}#sk-container-id-1 div.sk-parallel-item::after {content: \"\";width: 100%;border-bottom: 1px solid gray;flex-grow: 1;}#sk-container-id-1 div.sk-label:hover label.sk-toggleable__label {background-color: #d4ebff;}#sk-container-id-1 div.sk-serial::before {content: \"\";position: absolute;border-left: 1px solid gray;box-sizing: border-box;top: 0;bottom: 0;left: 50%;z-index: 0;}#sk-container-id-1 div.sk-serial {display: flex;flex-direction: column;align-items: center;background-color: white;padding-right: 0.2em;padding-left: 0.2em;position: relative;}#sk-container-id-1 div.sk-item {position: relative;z-index: 1;}#sk-container-id-1 div.sk-parallel {display: flex;align-items: stretch;justify-content: center;background-color: white;position: relative;}#sk-container-id-1 div.sk-item::before, #sk-container-id-1 div.sk-parallel-item::before {content: \"\";position: absolute;border-left: 1px solid gray;box-sizing: border-box;top: 0;bottom: 0;left: 50%;z-index: -1;}#sk-container-id-1 div.sk-parallel-item {display: flex;flex-direction: column;z-index: 1;position: relative;background-color: white;}#sk-container-id-1 div.sk-parallel-item:first-child::after {align-self: flex-end;width: 50%;}#sk-container-id-1 div.sk-parallel-item:last-child::after {align-self: flex-start;width: 50%;}#sk-container-id-1 div.sk-parallel-item:only-child::after {width: 0;}#sk-container-id-1 div.sk-dashed-wrapped {border: 1px dashed gray;margin: 0 0.4em 0.5em 0.4em;box-sizing: border-box;padding-bottom: 0.4em;background-color: white;}#sk-container-id-1 div.sk-label label {font-family: monospace;font-weight: bold;display: inline-block;line-height: 1.2em;}#sk-container-id-1 div.sk-label-container {text-align: center;}#sk-container-id-1 div.sk-container {/* jupyter's `normalize.less` sets `[hidden] { display: none; }` but bootstrap.min.css set `[hidden] { display: none !important; }` so we also need the `!important` here to be able to override the default hidden behavior on the sphinx rendered scikit-learn.org. See: https://github.com/scikit-learn/scikit-learn/issues/21755 */display: inline-block !important;position: relative;}#sk-container-id-1 div.sk-text-repr-fallback {display: none;}</style><div id=\"sk-container-id-1\" class=\"sk-top-container\"><div class=\"sk-text-repr-fallback\"><pre>Ridge(alpha=0.1)</pre><b>In a Jupyter environment, please rerun this cell to show the HTML representation or trust the notebook. <br />On GitHub, the HTML representation is unable to render, please try loading this page with nbviewer.org.</b></div><div class=\"sk-container\" hidden><div class=\"sk-item\"><div class=\"sk-estimator sk-toggleable\"><input class=\"sk-toggleable__control sk-hidden--visually\" id=\"sk-estimator-id-1\" type=\"checkbox\" checked><label for=\"sk-estimator-id-1\" class=\"sk-toggleable__label sk-toggleable__label-arrow\">Ridge</label><div class=\"sk-toggleable__content\"><pre>Ridge(alpha=0.1)</pre></div></div></div></div></div>"
            ]
          },
          "metadata": {},
          "execution_count": 26
        }
      ]
    },
    {
      "cell_type": "code",
      "source": [
        "y_pred1 = R.predict(x_test)"
      ],
      "metadata": {
        "id": "VWjeDlROAk-v"
      },
      "execution_count": null,
      "outputs": []
    },
    {
      "cell_type": "code",
      "source": [
        "print('R2 score',r2_score(y_test, y_pred1))\n",
        "print('Mean squared error', np.sqrt(mean_squared_error(y_test, y_pred1)))"
      ],
      "metadata": {
        "colab": {
          "base_uri": "https://localhost:8080/"
        },
        "id": "7nV9aon2Ap0B",
        "outputId": "01350f01-6858-4d1e-e459-b89d92064f66"
      },
      "execution_count": null,
      "outputs": [
        {
          "output_type": "stream",
          "name": "stdout",
          "text": [
            "R2 score -0.008993054099047493\n",
            "Mean squared error 28.62430304133639\n"
          ]
        }
      ]
    },
    {
      "cell_type": "markdown",
      "source": [
        "**Grid Search**"
      ],
      "metadata": {
        "id": "E26zOonwA2ZG"
      }
    },
    {
      "cell_type": "code",
      "source": [
        "from sklearn.model_selection import GridSearchCV\n",
        "parameters1= [{'alpha': [0.001,0.1,1, 10, 100, 1000, 10000, 100000, 100000]}]\n",
        "parameters1"
      ],
      "metadata": {
        "colab": {
          "base_uri": "https://localhost:8080/"
        },
        "id": "SapeBH1LAy4t",
        "outputId": "4fd1e0af-d4b8-4609-91a1-5427e9e0bc34"
      },
      "execution_count": null,
      "outputs": [
        {
          "output_type": "execute_result",
          "data": {
            "text/plain": [
              "[{'alpha': [0.001, 0.1, 1, 10, 100, 1000, 10000, 100000, 100000]}]"
            ]
          },
          "metadata": {},
          "execution_count": 29
        }
      ]
    },
    {
      "cell_type": "code",
      "source": [
        "\n",
        "RR=Ridge()\n",
        "RR"
      ],
      "metadata": {
        "colab": {
          "base_uri": "https://localhost:8080/",
          "height": 74
        },
        "id": "JMlRzy2rBfqF",
        "outputId": "ca1bb88b-b573-434a-a927-120d0ecb044b"
      },
      "execution_count": null,
      "outputs": [
        {
          "output_type": "execute_result",
          "data": {
            "text/plain": [
              "Ridge()"
            ],
            "text/html": [
              "<style>#sk-container-id-2 {color: black;background-color: white;}#sk-container-id-2 pre{padding: 0;}#sk-container-id-2 div.sk-toggleable {background-color: white;}#sk-container-id-2 label.sk-toggleable__label {cursor: pointer;display: block;width: 100%;margin-bottom: 0;padding: 0.3em;box-sizing: border-box;text-align: center;}#sk-container-id-2 label.sk-toggleable__label-arrow:before {content: \"▸\";float: left;margin-right: 0.25em;color: #696969;}#sk-container-id-2 label.sk-toggleable__label-arrow:hover:before {color: black;}#sk-container-id-2 div.sk-estimator:hover label.sk-toggleable__label-arrow:before {color: black;}#sk-container-id-2 div.sk-toggleable__content {max-height: 0;max-width: 0;overflow: hidden;text-align: left;background-color: #f0f8ff;}#sk-container-id-2 div.sk-toggleable__content pre {margin: 0.2em;color: black;border-radius: 0.25em;background-color: #f0f8ff;}#sk-container-id-2 input.sk-toggleable__control:checked~div.sk-toggleable__content {max-height: 200px;max-width: 100%;overflow: auto;}#sk-container-id-2 input.sk-toggleable__control:checked~label.sk-toggleable__label-arrow:before {content: \"▾\";}#sk-container-id-2 div.sk-estimator input.sk-toggleable__control:checked~label.sk-toggleable__label {background-color: #d4ebff;}#sk-container-id-2 div.sk-label input.sk-toggleable__control:checked~label.sk-toggleable__label {background-color: #d4ebff;}#sk-container-id-2 input.sk-hidden--visually {border: 0;clip: rect(1px 1px 1px 1px);clip: rect(1px, 1px, 1px, 1px);height: 1px;margin: -1px;overflow: hidden;padding: 0;position: absolute;width: 1px;}#sk-container-id-2 div.sk-estimator {font-family: monospace;background-color: #f0f8ff;border: 1px dotted black;border-radius: 0.25em;box-sizing: border-box;margin-bottom: 0.5em;}#sk-container-id-2 div.sk-estimator:hover {background-color: #d4ebff;}#sk-container-id-2 div.sk-parallel-item::after {content: \"\";width: 100%;border-bottom: 1px solid gray;flex-grow: 1;}#sk-container-id-2 div.sk-label:hover label.sk-toggleable__label {background-color: #d4ebff;}#sk-container-id-2 div.sk-serial::before {content: \"\";position: absolute;border-left: 1px solid gray;box-sizing: border-box;top: 0;bottom: 0;left: 50%;z-index: 0;}#sk-container-id-2 div.sk-serial {display: flex;flex-direction: column;align-items: center;background-color: white;padding-right: 0.2em;padding-left: 0.2em;position: relative;}#sk-container-id-2 div.sk-item {position: relative;z-index: 1;}#sk-container-id-2 div.sk-parallel {display: flex;align-items: stretch;justify-content: center;background-color: white;position: relative;}#sk-container-id-2 div.sk-item::before, #sk-container-id-2 div.sk-parallel-item::before {content: \"\";position: absolute;border-left: 1px solid gray;box-sizing: border-box;top: 0;bottom: 0;left: 50%;z-index: -1;}#sk-container-id-2 div.sk-parallel-item {display: flex;flex-direction: column;z-index: 1;position: relative;background-color: white;}#sk-container-id-2 div.sk-parallel-item:first-child::after {align-self: flex-end;width: 50%;}#sk-container-id-2 div.sk-parallel-item:last-child::after {align-self: flex-start;width: 50%;}#sk-container-id-2 div.sk-parallel-item:only-child::after {width: 0;}#sk-container-id-2 div.sk-dashed-wrapped {border: 1px dashed gray;margin: 0 0.4em 0.5em 0.4em;box-sizing: border-box;padding-bottom: 0.4em;background-color: white;}#sk-container-id-2 div.sk-label label {font-family: monospace;font-weight: bold;display: inline-block;line-height: 1.2em;}#sk-container-id-2 div.sk-label-container {text-align: center;}#sk-container-id-2 div.sk-container {/* jupyter's `normalize.less` sets `[hidden] { display: none; }` but bootstrap.min.css set `[hidden] { display: none !important; }` so we also need the `!important` here to be able to override the default hidden behavior on the sphinx rendered scikit-learn.org. See: https://github.com/scikit-learn/scikit-learn/issues/21755 */display: inline-block !important;position: relative;}#sk-container-id-2 div.sk-text-repr-fallback {display: none;}</style><div id=\"sk-container-id-2\" class=\"sk-top-container\"><div class=\"sk-text-repr-fallback\"><pre>Ridge()</pre><b>In a Jupyter environment, please rerun this cell to show the HTML representation or trust the notebook. <br />On GitHub, the HTML representation is unable to render, please try loading this page with nbviewer.org.</b></div><div class=\"sk-container\" hidden><div class=\"sk-item\"><div class=\"sk-estimator sk-toggleable\"><input class=\"sk-toggleable__control sk-hidden--visually\" id=\"sk-estimator-id-2\" type=\"checkbox\" checked><label for=\"sk-estimator-id-2\" class=\"sk-toggleable__label sk-toggleable__label-arrow\">Ridge</label><div class=\"sk-toggleable__content\"><pre>Ridge()</pre></div></div></div></div></div>"
            ]
          },
          "metadata": {},
          "execution_count": 30
        }
      ]
    },
    {
      "cell_type": "code",
      "source": [
        "Grid1 = GridSearchCV(RR, parameters1,cv=4)"
      ],
      "metadata": {
        "id": "Ju5K9Rf9CAZH"
      },
      "execution_count": null,
      "outputs": []
    },
    {
      "cell_type": "code",
      "source": [
        "Grid1.fit(x,y)"
      ],
      "metadata": {
        "colab": {
          "base_uri": "https://localhost:8080/",
          "height": 116
        },
        "id": "Uo8EZFJRCD9Q",
        "outputId": "384071c5-c06d-4f2e-c647-678a5f6aa891"
      },
      "execution_count": null,
      "outputs": [
        {
          "output_type": "execute_result",
          "data": {
            "text/plain": [
              "GridSearchCV(cv=4, estimator=Ridge(),\n",
              "             param_grid=[{'alpha': [0.001, 0.1, 1, 10, 100, 1000, 10000, 100000,\n",
              "                                    100000]}])"
            ],
            "text/html": [
              "<style>#sk-container-id-3 {color: black;background-color: white;}#sk-container-id-3 pre{padding: 0;}#sk-container-id-3 div.sk-toggleable {background-color: white;}#sk-container-id-3 label.sk-toggleable__label {cursor: pointer;display: block;width: 100%;margin-bottom: 0;padding: 0.3em;box-sizing: border-box;text-align: center;}#sk-container-id-3 label.sk-toggleable__label-arrow:before {content: \"▸\";float: left;margin-right: 0.25em;color: #696969;}#sk-container-id-3 label.sk-toggleable__label-arrow:hover:before {color: black;}#sk-container-id-3 div.sk-estimator:hover label.sk-toggleable__label-arrow:before {color: black;}#sk-container-id-3 div.sk-toggleable__content {max-height: 0;max-width: 0;overflow: hidden;text-align: left;background-color: #f0f8ff;}#sk-container-id-3 div.sk-toggleable__content pre {margin: 0.2em;color: black;border-radius: 0.25em;background-color: #f0f8ff;}#sk-container-id-3 input.sk-toggleable__control:checked~div.sk-toggleable__content {max-height: 200px;max-width: 100%;overflow: auto;}#sk-container-id-3 input.sk-toggleable__control:checked~label.sk-toggleable__label-arrow:before {content: \"▾\";}#sk-container-id-3 div.sk-estimator input.sk-toggleable__control:checked~label.sk-toggleable__label {background-color: #d4ebff;}#sk-container-id-3 div.sk-label input.sk-toggleable__control:checked~label.sk-toggleable__label {background-color: #d4ebff;}#sk-container-id-3 input.sk-hidden--visually {border: 0;clip: rect(1px 1px 1px 1px);clip: rect(1px, 1px, 1px, 1px);height: 1px;margin: -1px;overflow: hidden;padding: 0;position: absolute;width: 1px;}#sk-container-id-3 div.sk-estimator {font-family: monospace;background-color: #f0f8ff;border: 1px dotted black;border-radius: 0.25em;box-sizing: border-box;margin-bottom: 0.5em;}#sk-container-id-3 div.sk-estimator:hover {background-color: #d4ebff;}#sk-container-id-3 div.sk-parallel-item::after {content: \"\";width: 100%;border-bottom: 1px solid gray;flex-grow: 1;}#sk-container-id-3 div.sk-label:hover label.sk-toggleable__label {background-color: #d4ebff;}#sk-container-id-3 div.sk-serial::before {content: \"\";position: absolute;border-left: 1px solid gray;box-sizing: border-box;top: 0;bottom: 0;left: 50%;z-index: 0;}#sk-container-id-3 div.sk-serial {display: flex;flex-direction: column;align-items: center;background-color: white;padding-right: 0.2em;padding-left: 0.2em;position: relative;}#sk-container-id-3 div.sk-item {position: relative;z-index: 1;}#sk-container-id-3 div.sk-parallel {display: flex;align-items: stretch;justify-content: center;background-color: white;position: relative;}#sk-container-id-3 div.sk-item::before, #sk-container-id-3 div.sk-parallel-item::before {content: \"\";position: absolute;border-left: 1px solid gray;box-sizing: border-box;top: 0;bottom: 0;left: 50%;z-index: -1;}#sk-container-id-3 div.sk-parallel-item {display: flex;flex-direction: column;z-index: 1;position: relative;background-color: white;}#sk-container-id-3 div.sk-parallel-item:first-child::after {align-self: flex-end;width: 50%;}#sk-container-id-3 div.sk-parallel-item:last-child::after {align-self: flex-start;width: 50%;}#sk-container-id-3 div.sk-parallel-item:only-child::after {width: 0;}#sk-container-id-3 div.sk-dashed-wrapped {border: 1px dashed gray;margin: 0 0.4em 0.5em 0.4em;box-sizing: border-box;padding-bottom: 0.4em;background-color: white;}#sk-container-id-3 div.sk-label label {font-family: monospace;font-weight: bold;display: inline-block;line-height: 1.2em;}#sk-container-id-3 div.sk-label-container {text-align: center;}#sk-container-id-3 div.sk-container {/* jupyter's `normalize.less` sets `[hidden] { display: none; }` but bootstrap.min.css set `[hidden] { display: none !important; }` so we also need the `!important` here to be able to override the default hidden behavior on the sphinx rendered scikit-learn.org. See: https://github.com/scikit-learn/scikit-learn/issues/21755 */display: inline-block !important;position: relative;}#sk-container-id-3 div.sk-text-repr-fallback {display: none;}</style><div id=\"sk-container-id-3\" class=\"sk-top-container\"><div class=\"sk-text-repr-fallback\"><pre>GridSearchCV(cv=4, estimator=Ridge(),\n",
              "             param_grid=[{&#x27;alpha&#x27;: [0.001, 0.1, 1, 10, 100, 1000, 10000, 100000,\n",
              "                                    100000]}])</pre><b>In a Jupyter environment, please rerun this cell to show the HTML representation or trust the notebook. <br />On GitHub, the HTML representation is unable to render, please try loading this page with nbviewer.org.</b></div><div class=\"sk-container\" hidden><div class=\"sk-item sk-dashed-wrapped\"><div class=\"sk-label-container\"><div class=\"sk-label sk-toggleable\"><input class=\"sk-toggleable__control sk-hidden--visually\" id=\"sk-estimator-id-3\" type=\"checkbox\" ><label for=\"sk-estimator-id-3\" class=\"sk-toggleable__label sk-toggleable__label-arrow\">GridSearchCV</label><div class=\"sk-toggleable__content\"><pre>GridSearchCV(cv=4, estimator=Ridge(),\n",
              "             param_grid=[{&#x27;alpha&#x27;: [0.001, 0.1, 1, 10, 100, 1000, 10000, 100000,\n",
              "                                    100000]}])</pre></div></div></div><div class=\"sk-parallel\"><div class=\"sk-parallel-item\"><div class=\"sk-item\"><div class=\"sk-label-container\"><div class=\"sk-label sk-toggleable\"><input class=\"sk-toggleable__control sk-hidden--visually\" id=\"sk-estimator-id-4\" type=\"checkbox\" ><label for=\"sk-estimator-id-4\" class=\"sk-toggleable__label sk-toggleable__label-arrow\">estimator: Ridge</label><div class=\"sk-toggleable__content\"><pre>Ridge()</pre></div></div></div><div class=\"sk-serial\"><div class=\"sk-item\"><div class=\"sk-estimator sk-toggleable\"><input class=\"sk-toggleable__control sk-hidden--visually\" id=\"sk-estimator-id-5\" type=\"checkbox\" ><label for=\"sk-estimator-id-5\" class=\"sk-toggleable__label sk-toggleable__label-arrow\">Ridge</label><div class=\"sk-toggleable__content\"><pre>Ridge()</pre></div></div></div></div></div></div></div></div></div></div>"
            ]
          },
          "metadata": {},
          "execution_count": 32
        }
      ]
    },
    {
      "cell_type": "code",
      "source": [
        "BestRR = Grid1.best_estimator_\n",
        "BestRR"
      ],
      "metadata": {
        "colab": {
          "base_uri": "https://localhost:8080/",
          "height": 74
        },
        "id": "Qgvx_NyxCUqN",
        "outputId": "9752161f-5fef-467f-99d7-576c9d89a52f"
      },
      "execution_count": null,
      "outputs": [
        {
          "output_type": "execute_result",
          "data": {
            "text/plain": [
              "Ridge(alpha=100000)"
            ],
            "text/html": [
              "<style>#sk-container-id-4 {color: black;background-color: white;}#sk-container-id-4 pre{padding: 0;}#sk-container-id-4 div.sk-toggleable {background-color: white;}#sk-container-id-4 label.sk-toggleable__label {cursor: pointer;display: block;width: 100%;margin-bottom: 0;padding: 0.3em;box-sizing: border-box;text-align: center;}#sk-container-id-4 label.sk-toggleable__label-arrow:before {content: \"▸\";float: left;margin-right: 0.25em;color: #696969;}#sk-container-id-4 label.sk-toggleable__label-arrow:hover:before {color: black;}#sk-container-id-4 div.sk-estimator:hover label.sk-toggleable__label-arrow:before {color: black;}#sk-container-id-4 div.sk-toggleable__content {max-height: 0;max-width: 0;overflow: hidden;text-align: left;background-color: #f0f8ff;}#sk-container-id-4 div.sk-toggleable__content pre {margin: 0.2em;color: black;border-radius: 0.25em;background-color: #f0f8ff;}#sk-container-id-4 input.sk-toggleable__control:checked~div.sk-toggleable__content {max-height: 200px;max-width: 100%;overflow: auto;}#sk-container-id-4 input.sk-toggleable__control:checked~label.sk-toggleable__label-arrow:before {content: \"▾\";}#sk-container-id-4 div.sk-estimator input.sk-toggleable__control:checked~label.sk-toggleable__label {background-color: #d4ebff;}#sk-container-id-4 div.sk-label input.sk-toggleable__control:checked~label.sk-toggleable__label {background-color: #d4ebff;}#sk-container-id-4 input.sk-hidden--visually {border: 0;clip: rect(1px 1px 1px 1px);clip: rect(1px, 1px, 1px, 1px);height: 1px;margin: -1px;overflow: hidden;padding: 0;position: absolute;width: 1px;}#sk-container-id-4 div.sk-estimator {font-family: monospace;background-color: #f0f8ff;border: 1px dotted black;border-radius: 0.25em;box-sizing: border-box;margin-bottom: 0.5em;}#sk-container-id-4 div.sk-estimator:hover {background-color: #d4ebff;}#sk-container-id-4 div.sk-parallel-item::after {content: \"\";width: 100%;border-bottom: 1px solid gray;flex-grow: 1;}#sk-container-id-4 div.sk-label:hover label.sk-toggleable__label {background-color: #d4ebff;}#sk-container-id-4 div.sk-serial::before {content: \"\";position: absolute;border-left: 1px solid gray;box-sizing: border-box;top: 0;bottom: 0;left: 50%;z-index: 0;}#sk-container-id-4 div.sk-serial {display: flex;flex-direction: column;align-items: center;background-color: white;padding-right: 0.2em;padding-left: 0.2em;position: relative;}#sk-container-id-4 div.sk-item {position: relative;z-index: 1;}#sk-container-id-4 div.sk-parallel {display: flex;align-items: stretch;justify-content: center;background-color: white;position: relative;}#sk-container-id-4 div.sk-item::before, #sk-container-id-4 div.sk-parallel-item::before {content: \"\";position: absolute;border-left: 1px solid gray;box-sizing: border-box;top: 0;bottom: 0;left: 50%;z-index: -1;}#sk-container-id-4 div.sk-parallel-item {display: flex;flex-direction: column;z-index: 1;position: relative;background-color: white;}#sk-container-id-4 div.sk-parallel-item:first-child::after {align-self: flex-end;width: 50%;}#sk-container-id-4 div.sk-parallel-item:last-child::after {align-self: flex-start;width: 50%;}#sk-container-id-4 div.sk-parallel-item:only-child::after {width: 0;}#sk-container-id-4 div.sk-dashed-wrapped {border: 1px dashed gray;margin: 0 0.4em 0.5em 0.4em;box-sizing: border-box;padding-bottom: 0.4em;background-color: white;}#sk-container-id-4 div.sk-label label {font-family: monospace;font-weight: bold;display: inline-block;line-height: 1.2em;}#sk-container-id-4 div.sk-label-container {text-align: center;}#sk-container-id-4 div.sk-container {/* jupyter's `normalize.less` sets `[hidden] { display: none; }` but bootstrap.min.css set `[hidden] { display: none !important; }` so we also need the `!important` here to be able to override the default hidden behavior on the sphinx rendered scikit-learn.org. See: https://github.com/scikit-learn/scikit-learn/issues/21755 */display: inline-block !important;position: relative;}#sk-container-id-4 div.sk-text-repr-fallback {display: none;}</style><div id=\"sk-container-id-4\" class=\"sk-top-container\"><div class=\"sk-text-repr-fallback\"><pre>Ridge(alpha=100000)</pre><b>In a Jupyter environment, please rerun this cell to show the HTML representation or trust the notebook. <br />On GitHub, the HTML representation is unable to render, please try loading this page with nbviewer.org.</b></div><div class=\"sk-container\" hidden><div class=\"sk-item\"><div class=\"sk-estimator sk-toggleable\"><input class=\"sk-toggleable__control sk-hidden--visually\" id=\"sk-estimator-id-6\" type=\"checkbox\" checked><label for=\"sk-estimator-id-6\" class=\"sk-toggleable__label sk-toggleable__label-arrow\">Ridge</label><div class=\"sk-toggleable__content\"><pre>Ridge(alpha=100000)</pre></div></div></div></div></div>"
            ]
          },
          "metadata": {},
          "execution_count": 33
        }
      ]
    },
    {
      "cell_type": "code",
      "source": [
        "BestRR.fit(x_train, y_train)"
      ],
      "metadata": {
        "colab": {
          "base_uri": "https://localhost:8080/",
          "height": 74
        },
        "id": "-U-f6PsFCZyy",
        "outputId": "78fdc288-c206-48e8-bcd0-cd8b19ab3097"
      },
      "execution_count": null,
      "outputs": [
        {
          "output_type": "execute_result",
          "data": {
            "text/plain": [
              "Ridge(alpha=100000)"
            ],
            "text/html": [
              "<style>#sk-container-id-5 {color: black;background-color: white;}#sk-container-id-5 pre{padding: 0;}#sk-container-id-5 div.sk-toggleable {background-color: white;}#sk-container-id-5 label.sk-toggleable__label {cursor: pointer;display: block;width: 100%;margin-bottom: 0;padding: 0.3em;box-sizing: border-box;text-align: center;}#sk-container-id-5 label.sk-toggleable__label-arrow:before {content: \"▸\";float: left;margin-right: 0.25em;color: #696969;}#sk-container-id-5 label.sk-toggleable__label-arrow:hover:before {color: black;}#sk-container-id-5 div.sk-estimator:hover label.sk-toggleable__label-arrow:before {color: black;}#sk-container-id-5 div.sk-toggleable__content {max-height: 0;max-width: 0;overflow: hidden;text-align: left;background-color: #f0f8ff;}#sk-container-id-5 div.sk-toggleable__content pre {margin: 0.2em;color: black;border-radius: 0.25em;background-color: #f0f8ff;}#sk-container-id-5 input.sk-toggleable__control:checked~div.sk-toggleable__content {max-height: 200px;max-width: 100%;overflow: auto;}#sk-container-id-5 input.sk-toggleable__control:checked~label.sk-toggleable__label-arrow:before {content: \"▾\";}#sk-container-id-5 div.sk-estimator input.sk-toggleable__control:checked~label.sk-toggleable__label {background-color: #d4ebff;}#sk-container-id-5 div.sk-label input.sk-toggleable__control:checked~label.sk-toggleable__label {background-color: #d4ebff;}#sk-container-id-5 input.sk-hidden--visually {border: 0;clip: rect(1px 1px 1px 1px);clip: rect(1px, 1px, 1px, 1px);height: 1px;margin: -1px;overflow: hidden;padding: 0;position: absolute;width: 1px;}#sk-container-id-5 div.sk-estimator {font-family: monospace;background-color: #f0f8ff;border: 1px dotted black;border-radius: 0.25em;box-sizing: border-box;margin-bottom: 0.5em;}#sk-container-id-5 div.sk-estimator:hover {background-color: #d4ebff;}#sk-container-id-5 div.sk-parallel-item::after {content: \"\";width: 100%;border-bottom: 1px solid gray;flex-grow: 1;}#sk-container-id-5 div.sk-label:hover label.sk-toggleable__label {background-color: #d4ebff;}#sk-container-id-5 div.sk-serial::before {content: \"\";position: absolute;border-left: 1px solid gray;box-sizing: border-box;top: 0;bottom: 0;left: 50%;z-index: 0;}#sk-container-id-5 div.sk-serial {display: flex;flex-direction: column;align-items: center;background-color: white;padding-right: 0.2em;padding-left: 0.2em;position: relative;}#sk-container-id-5 div.sk-item {position: relative;z-index: 1;}#sk-container-id-5 div.sk-parallel {display: flex;align-items: stretch;justify-content: center;background-color: white;position: relative;}#sk-container-id-5 div.sk-item::before, #sk-container-id-5 div.sk-parallel-item::before {content: \"\";position: absolute;border-left: 1px solid gray;box-sizing: border-box;top: 0;bottom: 0;left: 50%;z-index: -1;}#sk-container-id-5 div.sk-parallel-item {display: flex;flex-direction: column;z-index: 1;position: relative;background-color: white;}#sk-container-id-5 div.sk-parallel-item:first-child::after {align-self: flex-end;width: 50%;}#sk-container-id-5 div.sk-parallel-item:last-child::after {align-self: flex-start;width: 50%;}#sk-container-id-5 div.sk-parallel-item:only-child::after {width: 0;}#sk-container-id-5 div.sk-dashed-wrapped {border: 1px dashed gray;margin: 0 0.4em 0.5em 0.4em;box-sizing: border-box;padding-bottom: 0.4em;background-color: white;}#sk-container-id-5 div.sk-label label {font-family: monospace;font-weight: bold;display: inline-block;line-height: 1.2em;}#sk-container-id-5 div.sk-label-container {text-align: center;}#sk-container-id-5 div.sk-container {/* jupyter's `normalize.less` sets `[hidden] { display: none; }` but bootstrap.min.css set `[hidden] { display: none !important; }` so we also need the `!important` here to be able to override the default hidden behavior on the sphinx rendered scikit-learn.org. See: https://github.com/scikit-learn/scikit-learn/issues/21755 */display: inline-block !important;position: relative;}#sk-container-id-5 div.sk-text-repr-fallback {display: none;}</style><div id=\"sk-container-id-5\" class=\"sk-top-container\"><div class=\"sk-text-repr-fallback\"><pre>Ridge(alpha=100000)</pre><b>In a Jupyter environment, please rerun this cell to show the HTML representation or trust the notebook. <br />On GitHub, the HTML representation is unable to render, please try loading this page with nbviewer.org.</b></div><div class=\"sk-container\" hidden><div class=\"sk-item\"><div class=\"sk-estimator sk-toggleable\"><input class=\"sk-toggleable__control sk-hidden--visually\" id=\"sk-estimator-id-7\" type=\"checkbox\" checked><label for=\"sk-estimator-id-7\" class=\"sk-toggleable__label sk-toggleable__label-arrow\">Ridge</label><div class=\"sk-toggleable__content\"><pre>Ridge(alpha=100000)</pre></div></div></div></div></div>"
            ]
          },
          "metadata": {},
          "execution_count": 34
        }
      ]
    },
    {
      "cell_type": "code",
      "source": [
        "BestRR.score(x,y)"
      ],
      "metadata": {
        "colab": {
          "base_uri": "https://localhost:8080/"
        },
        "id": "9UrxsSQfChA6",
        "outputId": "a30f50c3-4ab9-4e81-cc09-15b49d6b0cb3"
      },
      "execution_count": null,
      "outputs": [
        {
          "output_type": "execute_result",
          "data": {
            "text/plain": [
              "0.0016551601389337423"
            ]
          },
          "metadata": {},
          "execution_count": 35
        }
      ]
    },
    {
      "cell_type": "code",
      "source": [
        "%matplotlib inline\n",
        "import seaborn as sns"
      ],
      "metadata": {
        "id": "MWPr6J82CyPw"
      },
      "execution_count": null,
      "outputs": []
    },
    {
      "cell_type": "code",
      "source": [
        "def DistributionPlot(RedFunction, BlueFunction, RedName, BlueName, Title):\n",
        "    width = 12\n",
        "    height = 10\n",
        "    plt.figure(figsize=(width, height))\n",
        "\n",
        "    #ax1 = sns.distplot(RedFunction, hist=False, color=\"r\", label=RedName)\n",
        "    #ax2 = sns.distplot(BlueFunction, hist=False, color=\"b\", label=BlueName, ax=ax1)\n",
        "\n",
        "    ax1 = sns.distplot(RedFunction, color=\"r\", label=RedName)\n",
        "    ax2 = sns.distplot(BlueFunction, color=\"b\", label=BlueName, ax=ax1)\n",
        "\n",
        "    plt.title(Title)\n",
        "    plt.xlabel('Value of x')\n",
        "    plt.ylabel('Value of y')\n",
        "\n",
        "    plt.show()\n",
        "    plt.close()"
      ],
      "metadata": {
        "id": "Uu_Vfpkr2SFM"
      },
      "execution_count": null,
      "outputs": []
    },
    {
      "cell_type": "code",
      "source": [],
      "metadata": {
        "id": "BJu_jySD2SXO"
      },
      "execution_count": null,
      "outputs": []
    },
    {
      "cell_type": "code",
      "source": [],
      "metadata": {
        "id": "jWzKU8LF2Suk"
      },
      "execution_count": null,
      "outputs": []
    }
  ]
}